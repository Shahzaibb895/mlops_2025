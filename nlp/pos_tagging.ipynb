{
 "cells": [
  {
   "cell_type": "markdown",
   "id": "70da4603",
   "metadata": {},
   "source": [
    "## Stopwords in NLP"
   ]
  },
  {
   "cell_type": "code",
   "execution_count": 150,
   "id": "ea8d8bf6",
   "metadata": {},
   "outputs": [
    {
     "name": "stderr",
     "output_type": "stream",
     "text": [
      "[nltk_data] Downloading package stopwords to\n",
      "[nltk_data]     C:\\Users\\qc\\AppData\\Roaming\\nltk_data...\n",
      "[nltk_data]   Package stopwords is already up-to-date!\n"
     ]
    },
    {
     "data": {
      "text/plain": [
       "True"
      ]
     },
     "execution_count": 150,
     "metadata": {},
     "output_type": "execute_result"
    }
   ],
   "source": [
    "import nltk\n",
    "nltk.download('stopwords')"
   ]
  },
  {
   "cell_type": "code",
   "execution_count": 151,
   "id": "b03a6825",
   "metadata": {},
   "outputs": [],
   "source": [
    "from nltk.stem import PorterStemmer\n",
    "from nltk.corpus import stopwords"
   ]
  },
  {
   "cell_type": "code",
   "execution_count": 7,
   "id": "cae81d54",
   "metadata": {},
   "outputs": [],
   "source": [
    "corpus = \"\"\"Jensen Huang’s journey to success is rooted in his humble beginnings and a passion for technology. He was born on February 17, 1963, in Tainan, Taiwan. Later, his family moved to Thailand before finally moving and settling down in the U.S. During his early years, he attended a school for “difficult” children and was even assigned the task of cleaning the dormitory toilets at the age of 9.\n",
    "\n",
    "If you think it broke him or made him disappointed in life – you are mistaken. Instead, it developed in him a strong sense of determination and perseverance. This defining experience instilled in him the principle of always giving his best effort, whether in academics or sports (these skills will play a significant role in his career later). \n",
    "\"\"\""
   ]
  },
  {
   "cell_type": "code",
   "execution_count": 8,
   "id": "8bfbc384",
   "metadata": {},
   "outputs": [
    {
     "name": "stdout",
     "output_type": "stream",
     "text": [
      "Jensen Huang’s journey to success is rooted in his humble beginnings and a passion for technology.\n",
      "He was born on February 17, 1963, in Tainan, Taiwan.\n",
      "Later, his family moved to Thailand before finally moving and settling down in the U.S. During his early years, he attended a school for “difficult” children and was even assigned the task of cleaning the dormitory toilets at the age of 9.\n",
      "If you think it broke him or made him disappointed in life – you are mistaken.\n",
      "Instead, it developed in him a strong sense of determination and perseverance.\n",
      "This defining experience instilled in him the principle of always giving his best effort, whether in academics or sports (these skills will play a significant role in his career later).\n"
     ]
    }
   ],
   "source": [
    "from nltk.tokenize import sent_tokenize\n",
    "\n",
    "sentences = sent_tokenize(corpus)\n",
    "\n",
    "for sentence in sentences:\n",
    "    print(sentence)"
   ]
  },
  {
   "cell_type": "code",
   "execution_count": 9,
   "id": "10086f06",
   "metadata": {},
   "outputs": [
    {
     "ename": "NameError",
     "evalue": "name 'stopwords' is not defined",
     "output_type": "error",
     "traceback": [
      "\u001b[31m---------------------------------------------------------------------------\u001b[39m",
      "\u001b[31mNameError\u001b[39m                                 Traceback (most recent call last)",
      "\u001b[36mCell\u001b[39m\u001b[36m \u001b[39m\u001b[32mIn[9]\u001b[39m\u001b[32m, line 1\u001b[39m\n\u001b[32m----> \u001b[39m\u001b[32m1\u001b[39m \u001b[43mstopwords\u001b[49m.words(\u001b[33m'\u001b[39m\u001b[33menglish\u001b[39m\u001b[33m'\u001b[39m)\n",
      "\u001b[31mNameError\u001b[39m: name 'stopwords' is not defined"
     ]
    }
   ],
   "source": [
    "stopwords.words('english')"
   ]
  },
  {
   "cell_type": "code",
   "execution_count": 10,
   "id": "8d6a891f",
   "metadata": {},
   "outputs": [],
   "source": [
    "## for loop using range function\n",
    "## sentences ----> tokenization\n",
    "## words ---> stopwords\n",
    "## stemming/lemmatization\n",
    "## joining words to sentences"
   ]
  },
  {
   "cell_type": "code",
   "execution_count": 11,
   "id": "164efcb3",
   "metadata": {},
   "outputs": [],
   "source": [
    "from nltk.tokenize import word_tokenize"
   ]
  },
  {
   "cell_type": "code",
   "execution_count": 12,
   "id": "aa3cdd56",
   "metadata": {},
   "outputs": [],
   "source": [
    "from nltk.stem import PorterStemmer\n",
    "\n",
    "stemmer = PorterStemmer()"
   ]
  },
  {
   "cell_type": "code",
   "execution_count": 158,
   "id": "63dabf5e",
   "metadata": {},
   "outputs": [],
   "source": [
    "from nltk.tokenize import word_tokenize\n",
    "\n",
    "for i in range(len(sentences)):\n",
    "    words = word_tokenize(sentences[i])\n",
    "    words = [stemmer.stem(word) for word in words if word not in set(stopwords.words('english'))]\n",
    "    sentences[i] = ' '.join(words)"
   ]
  },
  {
   "cell_type": "code",
   "execution_count": 159,
   "id": "d5431043",
   "metadata": {},
   "outputs": [
    {
     "name": "stdout",
     "output_type": "stream",
     "text": [
      "jensen huang ’ journey success root humbl begin passion technolog .\n",
      "he born februari 17 , 1963 , tainan , taiwan .\n",
      "later , famili move thailand final move settl u.s. dure earli year , attend school “ difficult ” children even assign task clean dormitori toilet age 9 .\n",
      "if think broke made disappoint life – mistaken .\n",
      "instead , develop strong sens determin persever .\n",
      "thi defin experi instil principl alway give best effort , whether academ sport ( skill play signific role career later ) .\n"
     ]
    }
   ],
   "source": [
    "for sentence in sentences:\n",
    "    print(sentence)"
   ]
  },
  {
   "cell_type": "code",
   "execution_count": 160,
   "id": "5a574c12",
   "metadata": {},
   "outputs": [],
   "source": [
    "from nltk.stem import SnowballStemmer\n",
    "\n",
    "snowstemmer = SnowballStemmer('english')"
   ]
  },
  {
   "cell_type": "code",
   "execution_count": 161,
   "id": "8162b412",
   "metadata": {},
   "outputs": [],
   "source": [
    "from nltk.tokenize import word_tokenize\n",
    "\n",
    "for i in range(len(sentences)):\n",
    "    words = word_tokenize(sentences[i])\n",
    "    words = [snowstemmer.stem(word) for word in words if word not in set(stopwords.words('english'))]\n",
    "    sentences[i] = ' '.join(words)"
   ]
  },
  {
   "cell_type": "code",
   "execution_count": 162,
   "id": "92ea6224",
   "metadata": {},
   "outputs": [
    {
     "name": "stdout",
     "output_type": "stream",
     "text": [
      "jensen huang ’ journey success root humbl begin passion technolog .\n",
      "born februari 17 , 1963 , tainan , taiwan .\n",
      "later , famili move thailand final move settl u.s. dure ear year , attend school “ difficult ” children even assign task clean dormitori toilet age 9 .\n",
      "think broke made disappoint life – mistaken .\n",
      "instead , develop strong sen determin persev .\n",
      "thi defin experi instil principl alway give best effort , whether academ sport ( skill play signif role career later ) .\n"
     ]
    }
   ],
   "source": [
    "for sentence in sentences:\n",
    "    print(sentence)"
   ]
  },
  {
   "cell_type": "code",
   "execution_count": 163,
   "metadata": {},
   "outputs": [],
   "source": [
    "from nltk.stem import WordNetLemmatizer\n",
    "lemmatizer = WordNetLemmatizer()"
   ]
  },
  {
   "cell_type": "code",
   "execution_count": 164,
   "id": "344097a3",
   "metadata": {},
   "outputs": [
    {
     "name": "stdout",
     "output_type": "stream",
     "text": [
      "jensen huang ’ journey success root humbl begin passion technolog .\n",
      "born februari 17 , 1963 , tainan , taiwan .\n",
      "later , famili move thailand final move settl u.s. dure ear year , attend school “ difficult ” children even assign task clean dormitori toilet age 9 .\n",
      "think broke made disappoint life – mistaken .\n",
      "instead , develop strong sen determin persev .\n",
      "thi defin experi instil principl alway give best effort , whether academ sport ( skill play signif role career later ) .\n"
     ]
    }
   ],
   "source": [
    "from nltk.tokenize import word_tokenize\n",
    "\n",
    "for i in range(len(sentences)):\n",
    "    words = word_tokenize(sentences[i])\n",
    "    [lemmatizer.lemmatize(word.lower(), pos = 'v') for word in words if word not in set(stopwords.words('english'))]\n",
    "    sentences[i] = ' '.join(words)\n",
    "\n",
    "\n",
    "for sentence in sentences:\n",
    "    print(sentence)\n",
    "\n"
   ]
  },
  {
   "cell_type": "code",
   "execution_count": 2,
   "id": "93cc3af4",
   "metadata": {},
   "outputs": [
    {
     "name": "stderr",
     "output_type": "stream",
     "text": [
      "[nltk_data] Downloading package maxent_ne_chunker_tab to\n",
      "[nltk_data]     C:\\Users\\qc\\AppData\\Roaming\\nltk_data...\n",
      "[nltk_data]   Package maxent_ne_chunker_tab is already up-to-date!\n",
      "[nltk_data] Downloading package words to\n",
      "[nltk_data]     C:\\Users\\qc\\AppData\\Roaming\\nltk_data...\n",
      "[nltk_data]   Unzipping corpora\\words.zip.\n"
     ]
    },
    {
     "data": {
      "text/plain": [
       "True"
      ]
     },
     "execution_count": 2,
     "metadata": {},
     "output_type": "execute_result"
    }
   ],
   "source": [
    "import nltk\n",
    "nltk.download('maxent_ne_chunker_tab')\n",
    "nltk.download('words')"
   ]
  },
  {
   "cell_type": "code",
   "execution_count": 15,
   "id": "5a31e0d7",
   "metadata": {},
   "outputs": [],
   "source": [
    "from nltk import pos_tag\n",
    "from nltk import sent_tokenize"
   ]
  },
  {
   "cell_type": "code",
   "execution_count": null,
   "id": "2793dff0",
   "metadata": {},
   "outputs": [],
   "source": []
  }
 ],
 "metadata": {
  "kernelspec": {
   "display_name": "Python 3",
   "language": "python",
   "name": "python3"
  },
  "language_info": {
   "codemirror_mode": {
    "name": "ipython",
    "version": 3
   },
   "file_extension": ".py",
   "mimetype": "text/x-python",
   "name": "python",
   "nbconvert_exporter": "python",
   "pygments_lexer": "ipython3",
   "version": "3.12.0"
  }
 },
 "nbformat": 4,
 "nbformat_minor": 5
}
