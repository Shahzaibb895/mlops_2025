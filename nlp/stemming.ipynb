{
 "cells": [
  {
   "cell_type": "markdown",
   "id": "cd0ae330",
   "metadata": {},
   "source": [
    "## Stemming - Text Processing Technique"
   ]
  },
  {
   "cell_type": "code",
   "execution_count": 1,
   "id": "a9d80a01",
   "metadata": {},
   "outputs": [],
   "source": [
    "## Word (Suffixes/Prefixes) ---> root/lemma"
   ]
  },
  {
   "cell_type": "code",
   "execution_count": 2,
   "id": "46f5ebd4",
   "metadata": {},
   "outputs": [],
   "source": [
    "## 1- Porter Stemmer\n",
    "## 2- Regexp Stemmer\n",
    "## 3- Snowball Stemmer"
   ]
  },
  {
   "cell_type": "code",
   "execution_count": 3,
   "id": "a75a1e4e",
   "metadata": {},
   "outputs": [],
   "source": [
    "import nltk\n"
   ]
  },
  {
   "cell_type": "code",
   "execution_count": 4,
   "id": "c7e3984d",
   "metadata": {},
   "outputs": [],
   "source": [
    "from nltk.stem import PorterStemmer"
   ]
  },
  {
   "cell_type": "code",
   "execution_count": 5,
   "id": "0a4ff8cb",
   "metadata": {},
   "outputs": [],
   "source": [
    "words = ['eating','eatable','goes','going','writing','writes','wrote','written','history','edible']"
   ]
  },
  {
   "cell_type": "code",
   "execution_count": 6,
   "id": "e8b2f579",
   "metadata": {},
   "outputs": [],
   "source": [
    "stemmer = PorterStemmer()"
   ]
  },
  {
   "cell_type": "code",
   "execution_count": 7,
   "id": "f5a56b1f",
   "metadata": {},
   "outputs": [
    {
     "data": {
      "text/plain": [
       "['MARTIN_EXTENSIONS',\n",
       " 'NLTK_EXTENSIONS',\n",
       " 'ORIGINAL_ALGORITHM',\n",
       " '__abstractmethods__',\n",
       " '__class__',\n",
       " '__delattr__',\n",
       " '__dict__',\n",
       " '__dir__',\n",
       " '__doc__',\n",
       " '__eq__',\n",
       " '__format__',\n",
       " '__ge__',\n",
       " '__getattribute__',\n",
       " '__getstate__',\n",
       " '__gt__',\n",
       " '__hash__',\n",
       " '__init__',\n",
       " '__init_subclass__',\n",
       " '__le__',\n",
       " '__lt__',\n",
       " '__module__',\n",
       " '__ne__',\n",
       " '__new__',\n",
       " '__reduce__',\n",
       " '__reduce_ex__',\n",
       " '__repr__',\n",
       " '__setattr__',\n",
       " '__sizeof__',\n",
       " '__str__',\n",
       " '__subclasshook__',\n",
       " '__weakref__',\n",
       " '_abc_impl',\n",
       " '_apply_rule_list',\n",
       " '_contains_vowel',\n",
       " '_ends_cvc',\n",
       " '_ends_double_consonant',\n",
       " '_has_positive_measure',\n",
       " '_is_consonant',\n",
       " '_measure',\n",
       " '_replace_suffix',\n",
       " '_step1a',\n",
       " '_step1b',\n",
       " '_step1c',\n",
       " '_step2',\n",
       " '_step3',\n",
       " '_step4',\n",
       " '_step5a',\n",
       " '_step5b',\n",
       " 'mode',\n",
       " 'pool',\n",
       " 'stem',\n",
       " 'vowels']"
      ]
     },
     "execution_count": 7,
     "metadata": {},
     "output_type": "execute_result"
    }
   ],
   "source": [
    "dir(stemmer)"
   ]
  },
  {
   "cell_type": "code",
   "execution_count": null,
   "id": "55abf610",
   "metadata": {},
   "outputs": [
    {
     "name": "stdout",
     "output_type": "stream",
     "text": [
      "eating----->eat\n",
      "eatable----->eatabl\n",
      "goes----->goe\n",
      "going----->go\n",
      "writing----->write\n",
      "writes----->write\n",
      "wrote----->wrote\n",
      "written----->written\n",
      "history----->histori\n",
      "edible----->edibl\n"
     ]
    }
   ],
   "source": [
    "for word in words:\n",
    "    print(word+\"----->\"+stemmer.stem(word))\n"
   ]
  },
  {
   "cell_type": "code",
   "execution_count": 10,
   "id": "54007f57",
   "metadata": {},
   "outputs": [],
   "source": [
    "## Regexp Stemmer\n",
    "\n",
    "from nltk.stem import RegexpStemmer"
   ]
  },
  {
   "cell_type": "code",
   "execution_count": 13,
   "id": "1669c9f1",
   "metadata": {},
   "outputs": [
    {
     "data": {
      "text/plain": [
       "['__abstractmethods__',\n",
       " '__class__',\n",
       " '__delattr__',\n",
       " '__dict__',\n",
       " '__dir__',\n",
       " '__doc__',\n",
       " '__eq__',\n",
       " '__format__',\n",
       " '__ge__',\n",
       " '__getattribute__',\n",
       " '__getstate__',\n",
       " '__gt__',\n",
       " '__hash__',\n",
       " '__init__',\n",
       " '__init_subclass__',\n",
       " '__le__',\n",
       " '__lt__',\n",
       " '__module__',\n",
       " '__ne__',\n",
       " '__new__',\n",
       " '__reduce__',\n",
       " '__reduce_ex__',\n",
       " '__repr__',\n",
       " '__setattr__',\n",
       " '__sizeof__',\n",
       " '__str__',\n",
       " '__subclasshook__',\n",
       " '__weakref__',\n",
       " '_abc_impl',\n",
       " '_min',\n",
       " '_regexp',\n",
       " 'stem']"
      ]
     },
     "execution_count": 13,
     "metadata": {},
     "output_type": "execute_result"
    }
   ],
   "source": [
    "regstemmer = RegexpStemmer('ing$|s$|es$|able$', min=4) ##regular expression\n",
    "dir(regstemmer)"
   ]
  },
  {
   "cell_type": "code",
   "execution_count": 15,
   "id": "502d4fd9",
   "metadata": {},
   "outputs": [
    {
     "name": "stdout",
     "output_type": "stream",
     "text": [
      "eating----->eat\n",
      "eatable----->eat\n",
      "goes----->go\n",
      "going----->go\n",
      "writing----->writ\n",
      "writes----->writ\n",
      "wrote----->wrote\n",
      "written----->written\n",
      "history----->history\n",
      "edible----->edible\n"
     ]
    }
   ],
   "source": [
    "for word in words:\n",
    "    print(word+\"----->\"+regstemmer.stem(word)) ## Regular Stemming"
   ]
  },
  {
   "cell_type": "code",
   "execution_count": 16,
   "id": "c9a5df06",
   "metadata": {},
   "outputs": [],
   "source": [
    "from nltk.stem import SnowballStemmer"
   ]
  },
  {
   "cell_type": "code",
   "execution_count": 19,
   "id": "906919b6",
   "metadata": {},
   "outputs": [
    {
     "data": {
      "text/plain": [
       "['__abstractmethods__',\n",
       " '__class__',\n",
       " '__delattr__',\n",
       " '__dict__',\n",
       " '__dir__',\n",
       " '__doc__',\n",
       " '__eq__',\n",
       " '__format__',\n",
       " '__ge__',\n",
       " '__getattribute__',\n",
       " '__getstate__',\n",
       " '__gt__',\n",
       " '__hash__',\n",
       " '__init__',\n",
       " '__init_subclass__',\n",
       " '__le__',\n",
       " '__lt__',\n",
       " '__module__',\n",
       " '__ne__',\n",
       " '__new__',\n",
       " '__reduce__',\n",
       " '__reduce_ex__',\n",
       " '__repr__',\n",
       " '__setattr__',\n",
       " '__sizeof__',\n",
       " '__str__',\n",
       " '__subclasshook__',\n",
       " '__weakref__',\n",
       " '_abc_impl',\n",
       " 'languages',\n",
       " 'stem',\n",
       " 'stemmer',\n",
       " 'stopwords']"
      ]
     },
     "execution_count": 19,
     "metadata": {},
     "output_type": "execute_result"
    }
   ],
   "source": [
    "snowstemmer = SnowballStemmer('english')\n",
    "dir(snowstemmer)"
   ]
  },
  {
   "cell_type": "code",
   "execution_count": 18,
   "id": "1d88a725",
   "metadata": {},
   "outputs": [
    {
     "name": "stdout",
     "output_type": "stream",
     "text": [
      "eating----->eat\n",
      "eatable----->eatabl\n",
      "goes----->goe\n",
      "going----->go\n",
      "writing----->write\n",
      "writes----->write\n",
      "wrote----->wrote\n",
      "written----->written\n",
      "history----->histori\n",
      "edible----->edibl\n"
     ]
    }
   ],
   "source": [
    "for word in words:\n",
    "    print(word+\"----->\"+snowstemmer.stem(word))"
   ]
  },
  {
   "cell_type": "code",
   "execution_count": null,
   "id": "a18631b7",
   "metadata": {},
   "outputs": [],
   "source": []
  }
 ],
 "metadata": {
  "kernelspec": {
   "display_name": "Python 3",
   "language": "python",
   "name": "python3"
  },
  "language_info": {
   "codemirror_mode": {
    "name": "ipython",
    "version": 3
   },
   "file_extension": ".py",
   "mimetype": "text/x-python",
   "name": "python",
   "nbconvert_exporter": "python",
   "pygments_lexer": "ipython3",
   "version": "3.12.0"
  }
 },
 "nbformat": 4,
 "nbformat_minor": 5
}
