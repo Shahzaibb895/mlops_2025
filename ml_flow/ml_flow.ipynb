{
 "cells": [
  {
   "cell_type": "markdown",
   "id": "65d218a4",
   "metadata": {},
   "source": [
    "## MLFlow Projects"
   ]
  },
  {
   "cell_type": "code",
   "execution_count": 1,
   "id": "641459bb",
   "metadata": {},
   "outputs": [],
   "source": [
    "import mlflow"
   ]
  },
  {
   "cell_type": "code",
   "execution_count": 4,
   "metadata": {},
   "outputs": [],
   "source": [
    "mlflow.set_tracking_uri(\"http://127.0.0.1:5000\")"
   ]
  },
  {
   "cell_type": "code",
   "execution_count": 6,
   "id": "8c2988d8",
   "metadata": {},
   "outputs": [
    {
     "name": "stderr",
     "output_type": "stream",
     "text": [
      "2025/08/25 20:40:49 INFO mlflow.tracking.fluent: Experiment with name 'MLflow Project' does not exist. Creating a new experiment.\n"
     ]
    },
    {
     "data": {
      "text/plain": [
       "<Experiment: artifact_location='mlflow-artifacts:/252179482823447160', creation_time=1756136449452, experiment_id='252179482823447160', last_update_time=1756136449452, lifecycle_stage='active', name='MLflow Project', tags={}>"
      ]
     },
     "execution_count": 6,
     "metadata": {},
     "output_type": "execute_result"
    }
   ],
   "source": [
    "mlflow.set_experiment(\"MLflow Project\")"
   ]
  },
  {
   "cell_type": "code",
   "execution_count": 7,
   "id": "de3c2314",
   "metadata": {},
   "outputs": [
    {
     "name": "stdout",
     "output_type": "stream",
     "text": [
      "🏃 View run efficient-hog-904 at: http://127.0.0.1:5000/#/experiments/252179482823447160/runs/c584da62f9ee48e3a3438229ad2ad1a6\n",
      "🧪 View experiment at: http://127.0.0.1:5000/#/experiments/252179482823447160\n"
     ]
    }
   ],
   "source": [
    "with mlflow.start_run():\n",
    "    mlflow.log_metric('Shahzaib', 1)\n",
    "    mlflow.log_metric('Ayesha', 2)"
   ]
  },
  {
   "cell_type": "code",
   "execution_count": 8,
   "metadata": {},
   "outputs": [
    {
     "name": "stdout",
     "output_type": "stream",
     "text": [
      "🏃 View run stately-finch-625 at: http://127.0.0.1:5000/#/experiments/252179482823447160/runs/0e97a4a3cabc4075b61aabae34dc2595\n",
      "🧪 View experiment at: http://127.0.0.1:5000/#/experiments/252179482823447160\n"
     ]
    }
   ],
   "source": [
    "with mlflow.start_run():\n",
    "    mlflow.log_metric('Shahzaib', 2)\n",
    "    mlflow.log_metric('Ayesha', 1)"
   ]
  },
  {
   "cell_type": "code",
   "execution_count": null,
   "id": "3252adb2",
   "metadata": {},
   "outputs": [],
   "source": []
  }
 ],
 "metadata": {
  "kernelspec": {
   "display_name": "Python 3",
   "language": "python",
   "name": "python3"
  },
  "language_info": {
   "codemirror_mode": {
    "name": "ipython",
    "version": 3
   },
   "file_extension": ".py",
   "mimetype": "text/x-python",
   "name": "python",
   "nbconvert_exporter": "python",
   "pygments_lexer": "ipython3",
   "version": "3.12.0"
  }
 },
 "nbformat": 4,
 "nbformat_minor": 5
}
