{
 "cells": [
  {
   "cell_type": "markdown",
   "id": "7e1f1c29",
   "metadata": {},
   "source": [
    "## File Operations in Python\n",
    "\n"
   ]
  },
  {
   "cell_type": "code",
   "execution_count": 1,
   "id": "f33afa8b",
   "metadata": {},
   "outputs": [],
   "source": [
    "## File Modes available in Python\n",
    "\n",
    "## w: write mode\n",
    "## r: read mode\n",
    "## a: append\n",
    "## wb: write byte\n",
    "## rb: read byte mode\n",
    "## w+: "
   ]
  },
  {
   "cell_type": "code",
   "execution_count": 2,
   "id": "55fb2dd8",
   "metadata": {},
   "outputs": [
    {
     "name": "stdout",
     "output_type": "stream",
     "text": [
      "Shahzaib Haider is a veterinarian, he is also getting experties on animal behavior and animal welfare.\n",
      "He is a passionate animal lover and has a strong desire to help animals in need. \n",
      "He is also getting experties on coding.\n"
     ]
    }
   ],
   "source": [
    "with open('example.txt', 'r') as file:\n",
    "    content = file.read()\n",
    "\n",
    "print(content)"
   ]
  },
  {
   "cell_type": "code",
   "execution_count": 3,
   "id": "ff0adb8e",
   "metadata": {},
   "outputs": [
    {
     "name": "stdout",
     "output_type": "stream",
     "text": [
      "the file has been updated\n"
     ]
    }
   ],
   "source": [
    "## Overriding the existing txt\n",
    "with open('example.txt','w') as file:\n",
    "    file.write('Shahzaib is a veterinarian. \\n')\n",
    "    file.write('He is a good doctor.')\n",
    "    print('the file has been updated')"
   ]
  },
  {
   "cell_type": "code",
   "execution_count": 7,
   "id": "d6f393a7",
   "metadata": {},
   "outputs": [
    {
     "name": "stdout",
     "output_type": "stream",
     "text": [
      "Shahzaib is a veterinarian. \n",
      "He is a good doctor.\n",
      " This is the new content \n",
      "\n",
      " This is the new content \n",
      "\n",
      "This is the new content \n",
      "\n",
      " This is the new content \n",
      "\n"
     ]
    }
   ],
   "source": [
    "## Adding the content to an existing text file\n",
    "\n",
    "with open('example.txt','a') as file:\n",
    "    file.write('\\n This is the new content \\n')\n",
    "\n",
    "with open('example.txt', 'r') as file:\n",
    "    print(file.read())"
   ]
  },
  {
   "cell_type": "code",
   "execution_count": 8,
   "id": "8a8f959e",
   "metadata": {},
   "outputs": [
    {
     "name": "stdout",
     "output_type": "stream",
     "text": [
      "file has been generated\n"
     ]
    }
   ],
   "source": [
    "## Write a binary file using python\n",
    "\n",
    "data = b'\\x00\\x01\\x02\\x03'\n",
    "\n",
    "with open('binary_file.bin', 'wb') as file:\n",
    "    file.write(data)\n",
    "    print('file has been generated')"
   ]
  },
  {
   "cell_type": "code",
   "execution_count": 9,
   "id": "28437ee8",
   "metadata": {},
   "outputs": [
    {
     "name": "stdout",
     "output_type": "stream",
     "text": [
      "b'\\x00\\x01\\x02\\x03'\n"
     ]
    }
   ],
   "source": [
    "with open('binary_file.bin', 'rb') as file:\n",
    "    content = file.read()\n",
    "    print(content)"
   ]
  },
  {
   "cell_type": "code",
   "execution_count": 10,
   "id": "174a9312",
   "metadata": {},
   "outputs": [
    {
     "name": "stdout",
     "output_type": "stream",
     "text": [
      "Hello, world! \n",
      "it's 8:18 right now.\n"
     ]
    }
   ],
   "source": [
    "## Writing and reading at the same time --->w+\n",
    "\n",
    "with open('new_text.txt', 'w+') as file:\n",
    "    file.write('Hello, world! \\n')\n",
    "    file.write(\"it's 8:18 right now.\")\n",
    "\n",
    "    ##\n",
    "    file.seek(0)\n",
    "\n",
    "    content = file.read()\n",
    "    print(content)\n"
   ]
  },
  {
   "cell_type": "markdown",
   "id": "2746e34b",
   "metadata": {},
   "source": [
    "## File Paths in Python"
   ]
  },
  {
   "cell_type": "code",
   "execution_count": 23,
   "id": "175786a1",
   "metadata": {},
   "outputs": [],
   "source": [
    "## os -----> libraries\n",
    "## Making new directories using os\n",
    "## how to list the contents of directories\n",
    "## Paths using os"
   ]
  },
  {
   "cell_type": "code",
   "execution_count": 24,
   "id": "1e27f127",
   "metadata": {},
   "outputs": [],
   "source": [
    "import os"
   ]
  },
  {
   "cell_type": "code",
   "execution_count": 27,
   "id": "881246b5",
   "metadata": {},
   "outputs": [],
   "source": [
    "## Creating new directories\n",
    "\n",
    "os.mkdir('os_practice')"
   ]
  },
  {
   "cell_type": "code",
   "execution_count": 29,
   "id": "336cd593",
   "metadata": {},
   "outputs": [
    {
     "data": {
      "text/plain": [
       "['1.10_file_operations.ipynb',\n",
       " 'binary_file.bin',\n",
       " 'example.txt',\n",
       " 'new_text.txt',\n",
       " 'os_practice']"
      ]
     },
     "execution_count": 29,
     "metadata": {},
     "output_type": "execute_result"
    }
   ],
   "source": [
    "## Listing the contents of a directory\n",
    "\n",
    "os.listdir()"
   ]
  },
  {
   "cell_type": "code",
   "execution_count": 31,
   "id": "96a7d532",
   "metadata": {},
   "outputs": [
    {
     "data": {
      "text/plain": [
       "'c:\\\\Users\\\\qc\\\\Desktop\\\\mlops_2025\\\\1_python_basics\\\\1.10_file_handling\\\\folder\\\\file.txt'"
      ]
     },
     "execution_count": 31,
     "metadata": {},
     "output_type": "execute_result"
    }
   ],
   "source": [
    "\n",
    "\n",
    "file_name = 'file.txt'\n",
    "dir_name = 'folder'\n",
    "\n",
    "os.path.join(os.getcwd(),dir_name, file_name)"
   ]
  },
  {
   "cell_type": "code",
   "execution_count": 33,
   "id": "903413f6",
   "metadata": {},
   "outputs": [
    {
     "name": "stdout",
     "output_type": "stream",
     "text": [
      "The file example.txt exists.\n"
     ]
    }
   ],
   "source": [
    "\n",
    "\n",
    "path = 'example.txt'\n",
    "if os.path.exists(path):\n",
    "    print(f\"The file {path} exists.\")\n",
    "else:\n",
    "    print(f\"The file {path} does not exist.\")"
   ]
  },
  {
   "cell_type": "code",
   "execution_count": 34,
   "id": "e59cff91",
   "metadata": {},
   "outputs": [
    {
     "name": "stdout",
     "output_type": "stream",
     "text": [
      "File example.txt exists and is a file.\n"
     ]
    }
   ],
   "source": [
    "\n",
    "\n",
    "path = 'example.txt'\n",
    "\n",
    "if os.path.isfile(path):\n",
    "    print(f\"File {path} exists and is a file.\")\n",
    "elif os.path.is_dir(path):\n",
    "    print(f\"File {path} exists and is a directory.\")\n",
    "else:\n",
    "    print(f\"File {path} does not exist.\")"
   ]
  },
  {
   "cell_type": "code",
   "execution_count": 36,
   "id": "5eb24c51",
   "metadata": {},
   "outputs": [
    {
     "name": "stdout",
     "output_type": "stream",
     "text": [
      "File os_practice exists and is a directory.\n"
     ]
    }
   ],
   "source": [
    "path = 'os_practice'\n",
    "\n",
    "if os.path.isfile(path):\n",
    "    print(f\"File {path} exists and is a file.\")\n",
    "elif os.path.isdir(path):\n",
    "    print(f\"File {path} exists and is a directory.\")\n",
    "else:\n",
    "    print(f\"File {path} does not exist.\")"
   ]
  },
  {
   "cell_type": "code",
   "execution_count": null,
   "id": "bea58706",
   "metadata": {},
   "outputs": [],
   "source": []
  }
 ],
 "metadata": {
  "kernelspec": {
   "display_name": "Python 3",
   "language": "python",
   "name": "python3"
  },
  "language_info": {
   "codemirror_mode": {
    "name": "ipython",
    "version": 3
   },
   "file_extension": ".py",
   "mimetype": "text/x-python",
   "name": "python",
   "nbconvert_exporter": "python",
   "pygments_lexer": "ipython3",
   "version": "3.12.0"
  }
 },
 "nbformat": 4,
 "nbformat_minor": 5
}
