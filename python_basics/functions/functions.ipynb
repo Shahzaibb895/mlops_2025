{
 "cells": [
  {
   "cell_type": "markdown",
   "id": "4a2ca6e0",
   "metadata": {},
   "source": [
    "## Functions in Python\n",
    "\n",
    "- Define \n",
    "- Call\n",
    "- Return\n",
    "- Arguments\n",
    "- Keyword Arguments\n",
    "- Default Parameters\n",
    "- Lambda Functions\n",
    "- Map Functions\n",
    "- Filter Functions\n"
   ]
  },
  {
   "cell_type": "code",
   "execution_count": 12,
   "id": "fbcb70d0",
   "metadata": {},
   "outputs": [
    {
     "name": "stdout",
     "output_type": "stream",
     "text": [
      "21 is odd\n"
     ]
    }
   ],
   "source": [
    "num = 21\n",
    "\n",
    "if num%2==0:\n",
    "    print(num, \"is even\")\n",
    "else:\n",
    "    print(num, \"is odd\")"
   ]
  },
  {
   "cell_type": "code",
   "execution_count": 13,
   "id": "479b86ea",
   "metadata": {},
   "outputs": [],
   "source": [
    "## def name_of_function(parameter/arguement)\n",
    "##        \"\"\"\"\"\"Doc String\"\"\"\n",
    "##          body of the function\n",
    "##          return Expression"
   ]
  },
  {
   "cell_type": "code",
   "execution_count": 14,
   "id": "82080527",
   "metadata": {},
   "outputs": [],
   "source": [
    "## Defining a function\n",
    "\n",
    "def even_or_odd(number):\n",
    "    ## Description\n",
    "    if number % 2 != 0:\n",
    "        print(f\"The {number} is an odd number.\")\n",
    "    else:\n",
    "        print(f\"The {number} is an even number.\")"
   ]
  },
  {
   "cell_type": "code",
   "execution_count": 15,
   "id": "6a8f7f72",
   "metadata": {},
   "outputs": [
    {
     "name": "stdout",
     "output_type": "stream",
     "text": [
      "The 23 is an odd number.\n"
     ]
    }
   ],
   "source": [
    "## Calling a Function\n",
    "\n",
    "num = 23   ##Parameters\n",
    "even_or_odd(num)"
   ]
  },
  {
   "cell_type": "code",
   "execution_count": 16,
   "id": "1a7d9a0a",
   "metadata": {},
   "outputs": [],
   "source": [
    "\n",
    "\n",
    "def add(a,b):\n",
    "    return a + b\n",
    "\n",
    "def div(a,b):\n",
    "    if b == 0:\n",
    "        return \"Error: Division by zero is not allowed\"\n",
    "    else:\n",
    "        result = a / b\n",
    "    \n",
    "    return result"
   ]
  },
  {
   "cell_type": "code",
   "execution_count": 17,
   "id": "168879d0",
   "metadata": {},
   "outputs": [
    {
     "name": "stdout",
     "output_type": "stream",
     "text": [
      "4\n",
      "Error: Division by zero is not allowed\n"
     ]
    }
   ],
   "source": [
    "print(add(1,3))\n",
    "print(div(2,0))"
   ]
  },
  {
   "cell_type": "code",
   "execution_count": 22,
   "id": "bba87330",
   "metadata": {},
   "outputs": [
    {
     "data": {
      "text/plain": [
       "'Hey Shahzaib, Welcome to UAF'"
      ]
     },
     "execution_count": 22,
     "metadata": {},
     "output_type": "execute_result"
    }
   ],
   "source": [
    "\n",
    "\n",
    "def greet(name=\"Guest\"):\n",
    "    return f\"Hey {name}, Welcome to UAF\"\n",
    "\n",
    "greet(\"Shahzaib\")"
   ]
  },
  {
   "cell_type": "code",
   "execution_count": null,
   "id": "9adabee6",
   "metadata": {},
   "outputs": [
    {
     "name": "stdout",
     "output_type": "stream",
     "text": [
      "1\n",
      "2\n",
      "3\n",
      "4\n",
      "5\n",
      "6\n",
      "7\n",
      "8\n",
      "9\n",
      "10\n",
      "Shahzaib\n",
      "Ayesha\n"
     ]
    }
   ],
   "source": [
    "## Variable LENGTH arguement\n",
    "## Positional and key word arguements\n",
    "\n",
    "def print_function(*args):\n",
    "    for arg in args:\n",
    "        print(arg)\n",
    "\n",
    "print_function(1,2,3,4,5,6,7,8,9,10,\"Shahzaib\", \"Ayesha\") ## Positional Arguements"
   ]
  },
  {
   "cell_type": "code",
   "execution_count": 25,
   "id": "4967b773",
   "metadata": {},
   "outputs": [
    {
     "name": "stdout",
     "output_type": "stream",
     "text": [
      "name: Shahzaib\n",
      "age: 21\n",
      "city: Sargodha\n"
     ]
    }
   ],
   "source": [
    "def print_dict(**kwargs):\n",
    "    for key, value in kwargs.items():\n",
    "        print(f\"{key}: {value}\")\n",
    "\n",
    "print_dict(name = \"Shahzaib\", age = \"21\", city = \"Sargodha\")"
   ]
  },
  {
   "cell_type": "code",
   "execution_count": 30,
   "id": "5a6f960f",
   "metadata": {},
   "outputs": [
    {
     "name": "stdout",
     "output_type": "stream",
     "text": [
      "1 2 3 4 5 Shahzaib age = 25 city = Sargodha inst = UAF degree = DVM "
     ]
    }
   ],
   "source": [
    "def print_gen(*args, **kwargs):\n",
    "    for arg in args:\n",
    "        print(arg, end=' ')\n",
    "\n",
    "    for key, value in kwargs.items():\n",
    "        print(f'{key} = {value}',end=' ')\n",
    "\n",
    "print_gen(1,2,3,4,5,'Shahzaib', age=25,city='Sargodha', inst = 'UAF', degree= 'DVM')"
   ]
  },
  {
   "cell_type": "code",
   "execution_count": 31,
   "id": "9ca58ca9",
   "metadata": {},
   "outputs": [
    {
     "data": {
      "text/plain": [
       "15"
      ]
     },
     "execution_count": 31,
     "metadata": {},
     "output_type": "execute_result"
    }
   ],
   "source": [
    "## Functions with return keyword only\n",
    "\n",
    "def add(a,b):\n",
    "    return a + b\n",
    "\n",
    "add(6,9)"
   ]
  },
  {
   "cell_type": "code",
   "execution_count": 32,
   "id": "8f97bfd8",
   "metadata": {},
   "outputs": [
    {
     "data": {
      "text/plain": [
       "81"
      ]
     },
     "execution_count": 32,
     "metadata": {},
     "output_type": "execute_result"
    }
   ],
   "source": [
    "def square(a):\n",
    "    return a * a\n",
    "\n",
    "square(9)"
   ]
  },
  {
   "cell_type": "code",
   "execution_count": 34,
   "id": "18406e8c",
   "metadata": {},
   "outputs": [
    {
     "data": {
      "text/plain": [
       "5929"
      ]
     },
     "execution_count": 34,
     "metadata": {},
     "output_type": "execute_result"
    }
   ],
   "source": [
    "def square(a):\n",
    "    result = a ** 2\n",
    "    return result\n",
    "\n",
    "square(77)"
   ]
  },
  {
   "cell_type": "markdown",
   "id": "edeee300",
   "metadata": {},
   "source": [
    "## Lambda Function\n",
    "- Anonymous Function\n",
    "- Single line code, \n"
   ]
  },
  {
   "cell_type": "code",
   "execution_count": 35,
   "id": "55cf89e5",
   "metadata": {},
   "outputs": [
    {
     "name": "stdout",
     "output_type": "stream",
     "text": [
      "<class 'function'>\n"
     ]
    }
   ],
   "source": [
    "## Lambda Arguement: expression\n",
    "\n",
    "sqr = lambda x: x**2\n",
    "\n",
    "print(type(sqr))"
   ]
  },
  {
   "cell_type": "code",
   "execution_count": 36,
   "id": "c607826a",
   "metadata": {},
   "outputs": [
    {
     "data": {
      "text/plain": [
       "1521"
      ]
     },
     "execution_count": 36,
     "metadata": {},
     "output_type": "execute_result"
    }
   ],
   "source": [
    "sqr(39)"
   ]
  },
  {
   "cell_type": "code",
   "execution_count": 37,
   "id": "7b77ec71",
   "metadata": {},
   "outputs": [
    {
     "name": "stdout",
     "output_type": "stream",
     "text": [
      "12\n"
     ]
    }
   ],
   "source": [
    "## Lamda with multiple arguements\n",
    "\n",
    "addition = lambda x,y: x+y\n",
    "print(addition(5,7))  # Output: 12"
   ]
  },
  {
   "cell_type": "markdown",
   "id": "a831ebce",
   "metadata": {},
   "source": [
    "## Map Function\n"
   ]
  },
  {
   "cell_type": "code",
   "execution_count": 45,
   "id": "b68fff96",
   "metadata": {},
   "outputs": [
    {
     "data": {
      "text/plain": [
       "<map at 0x299be5c2f80>"
      ]
     },
     "execution_count": 45,
     "metadata": {},
     "output_type": "execute_result"
    }
   ],
   "source": [
    "num_1= [1,2,3,45,5,6,8,66]\n",
    "\n",
    "\n",
    "\n",
    "even = lambda x:  x % 2 == 0\n",
    "\n",
    "map(even, num_1)\n",
    "\n",
    "\n",
    "\n",
    "\n",
    "\n",
    "\n"
   ]
  },
  {
   "cell_type": "code",
   "execution_count": 44,
   "id": "227b5de5",
   "metadata": {},
   "outputs": [
    {
     "data": {
      "text/plain": [
       "[False, True, False, False, False, True, True, True]"
      ]
     },
     "execution_count": 44,
     "metadata": {},
     "output_type": "execute_result"
    }
   ],
   "source": [
    "list(map(even, num_1))"
   ]
  },
  {
   "cell_type": "code",
   "execution_count": 48,
   "id": "0fd59629",
   "metadata": {},
   "outputs": [],
   "source": [
    "def cube(num):\n",
    "    if num>=5:\n",
    "        return num ** 3"
   ]
  },
  {
   "cell_type": "code",
   "execution_count": 49,
   "id": "9424bd5c",
   "metadata": {},
   "outputs": [
    {
     "name": "stdout",
     "output_type": "stream",
     "text": [
      "[None, 125, 216, 343, 512, None, 85184, 287496, 35937]\n"
     ]
    }
   ],
   "source": [
    "num_2 =[4,5,6,7,8,4,44,66,33]\n",
    "\n",
    "cube_result = list(map(cube, num_2))\n",
    "\n",
    "print(cube_result)"
   ]
  },
  {
   "cell_type": "markdown",
   "id": "98edb028",
   "metadata": {},
   "source": [
    "## Filter Function"
   ]
  },
  {
   "cell_type": "code",
   "execution_count": 53,
   "id": "9e4b4d6f",
   "metadata": {},
   "outputs": [
    {
     "name": "stdout",
     "output_type": "stream",
     "text": [
      "[4, 6, 8, 4, 44, 66]\n"
     ]
    }
   ],
   "source": [
    "def even(num):\n",
    "    if num % 2 == 0:\n",
    "        return True\n",
    "\n",
    "num_2 =[4,5,6,7,8,4,44,66,33]\n",
    "filtered_numbers = list(filter(even, num_2))\n",
    "\n",
    "print(filtered_numbers)\n",
    "\n"
   ]
  },
  {
   "cell_type": "code",
   "execution_count": null,
   "id": "40a64467",
   "metadata": {},
   "outputs": [],
   "source": []
  }
 ],
 "metadata": {
  "kernelspec": {
   "display_name": "Python 3",
   "language": "python",
   "name": "python3"
  },
  "language_info": {
   "codemirror_mode": {
    "name": "ipython",
    "version": 3
   },
   "file_extension": ".py",
   "mimetype": "text/x-python",
   "name": "python",
   "nbconvert_exporter": "python",
   "pygments_lexer": "ipython3",
   "version": "3.12.0"
  }
 },
 "nbformat": 4,
 "nbformat_minor": 5
}
