{
 "cells": [
  {
   "cell_type": "markdown",
   "id": "85298744",
   "metadata": {},
   "source": [
    "- Variable Assignment\n",
    "- Naming Convention\n",
    "- Dynamic Typing\n",
    "- Type Conversion"
   ]
  },
  {
   "cell_type": "code",
   "execution_count": 1,
   "id": "25df5de0",
   "metadata": {},
   "outputs": [],
   "source": [
    "a=23 ## integers\n",
    "name=\"Shahzaib\" ## strings \n",
    "height= 5.4 ## floats\n",
    "is_adult=True ## booleans\n"
   ]
  },
  {
   "cell_type": "code",
   "execution_count": 3,
   "id": "e50b8b82",
   "metadata": {},
   "outputs": [
    {
     "name": "stdout",
     "output_type": "stream",
     "text": [
      "<class 'int'>\n",
      "<class 'str'>\n",
      "<class 'float'>\n",
      "<class 'bool'>\n"
     ]
    }
   ],
   "source": [
    "print(type(a))\n",
    "print(type(name))\n",
    "print(type(height))\n",
    "print(type(is_adult))"
   ]
  },
  {
   "cell_type": "code",
   "execution_count": 5,
   "id": "6260fff1",
   "metadata": {},
   "outputs": [
    {
     "name": "stdout",
     "output_type": "stream",
     "text": [
      "<class 'int'>\n",
      "<class 'str'>\n",
      "<class 'bool'>\n"
     ]
    }
   ],
   "source": [
    "## Python is a dynamically typed language.\n",
    "var = 24\n",
    "print(type(var))\n",
    "var = \"Shahzaib\"\n",
    "print(type(var))\n",
    "var = True\n",
    "print(type(var))"
   ]
  },
  {
   "cell_type": "code",
   "execution_count": 8,
   "id": "64241f89",
   "metadata": {},
   "outputs": [
    {
     "name": "stdout",
     "output_type": "stream",
     "text": [
      "<class 'str'>\n",
      "<class 'int'>\n"
     ]
    }
   ],
   "source": [
    "## Type Conversion\n",
    "\n",
    "age = \"21\"\n",
    "age_1 = int(age)\n",
    "print(type(age))\n",
    "print(type(age_1))\n"
   ]
  },
  {
   "cell_type": "code",
   "execution_count": null,
   "id": "a3bf1817",
   "metadata": {},
   "outputs": [],
   "source": [
    "## Naming Convention\n",
    "\n",
    "## small case letters, numbers, under scores\n",
    "## no special characters, no dashes, no numbers in start, no spaces"
   ]
  },
  {
   "cell_type": "code",
   "execution_count": null,
   "id": "9772ca5f",
   "metadata": {},
   "outputs": [
    {
     "name": "stdout",
     "output_type": "stream",
     "text": [
      "44\n",
      "2\n",
      "483\n",
      "1.0952380952380953\n"
     ]
    }
   ],
   "source": [
    "## simple calculator\n",
    "\n",
    "num_1 = int(input(\"Enter a number!\"))\n",
    "num_2 = int(input(\"Enter the second number!\"))\n",
    "\n",
    "\n",
    "sum = num_1 + num_2\n",
    "diff = num_1 - num_2\n",
    "multi = num_1 * num_2\n",
    "div = num_1 / num_2\n",
    "\n",
    "\n",
    "print(sum)\n",
    "print(diff)\n",
    "print(multi)\n",
    "print(div)\n"
   ]
  },
  {
   "cell_type": "code",
   "execution_count": 14,
   "id": "9f49199d",
   "metadata": {},
   "outputs": [
    {
     "name": "stdout",
     "output_type": "stream",
     "text": [
      "<class 'int'>\n",
      "<class 'int'>\n"
     ]
    }
   ],
   "source": [
    "print(type(num_1))\n",
    "print(type(num_2))"
   ]
  },
  {
   "cell_type": "markdown",
   "id": "dcb9dc5a",
   "metadata": {},
   "source": [
    "Basic Data Types\n",
    "- Strting\n",
    "- Boolean\n",
    "- Integar\n",
    "- Floats"
   ]
  },
  {
   "cell_type": "code",
   "execution_count": 17,
   "id": "a87e97e4",
   "metadata": {},
   "outputs": [],
   "source": [
    "name = \"Shahzaib\""
   ]
  },
  {
   "cell_type": "code",
   "execution_count": 18,
   "id": "4aa3fdf4",
   "metadata": {},
   "outputs": [
    {
     "name": "stdout",
     "output_type": "stream",
     "text": [
      "SHAHZAIB\n"
     ]
    }
   ],
   "source": [
    "print(name.upper())"
   ]
  },
  {
   "cell_type": "code",
   "execution_count": 19,
   "id": "4db6d52c",
   "metadata": {},
   "outputs": [],
   "source": [
    "## Boolean\n",
    "X = True\n",
    "Y = True"
   ]
  },
  {
   "cell_type": "code",
   "execution_count": 21,
   "id": "3f28c9f9",
   "metadata": {},
   "outputs": [
    {
     "data": {
      "text/plain": [
       "(1, 1)"
      ]
     },
     "execution_count": 21,
     "metadata": {},
     "output_type": "execute_result"
    }
   ],
   "source": [
    "X.as_integer_ratio()"
   ]
  },
  {
   "cell_type": "code",
   "execution_count": 22,
   "id": "cf9df4d0",
   "metadata": {},
   "outputs": [],
   "source": [
    "## Integars\n",
    "\n",
    "age = 21\n"
   ]
  },
  {
   "cell_type": "code",
   "execution_count": 23,
   "id": "8aa7258b",
   "metadata": {},
   "outputs": [],
   "source": [
    "## Floats\n",
    "\n",
    "weight = 78.0"
   ]
  },
  {
   "cell_type": "code",
   "execution_count": 24,
   "id": "65933948",
   "metadata": {},
   "outputs": [
    {
     "data": {
      "text/plain": [
       "(78, 1)"
      ]
     },
     "execution_count": 24,
     "metadata": {},
     "output_type": "execute_result"
    }
   ],
   "source": [
    "weight.as_integer_ratio()"
   ]
  },
  {
   "cell_type": "code",
   "execution_count": null,
   "id": "bd4c5bd2",
   "metadata": {},
   "outputs": [],
   "source": []
  }
 ],
 "metadata": {
  "kernelspec": {
   "display_name": "Python 3",
   "language": "python",
   "name": "python3"
  },
  "language_info": {
   "codemirror_mode": {
    "name": "ipython",
    "version": 3
   },
   "file_extension": ".py",
   "mimetype": "text/x-python",
   "name": "python",
   "nbconvert_exporter": "python",
   "pygments_lexer": "ipython3",
   "version": "3.12.0"
  }
 },
 "nbformat": 4,
 "nbformat_minor": 5
}
