{
 "cells": [
  {
   "cell_type": "markdown",
   "id": "b9aeabd1",
   "metadata": {},
   "source": [
    "## Tupules in Python\n",
    "- Creating Tupules\n",
    "- Accessing Tupules\n",
    "- Methods\n",
    "- Packing and Unpacking\n",
    "- etc"
   ]
  },
  {
   "cell_type": "code",
   "execution_count": 1,
   "id": "fcb142e8",
   "metadata": {},
   "outputs": [
    {
     "name": "stdout",
     "output_type": "stream",
     "text": [
      "<class 'tuple'>\n"
     ]
    }
   ],
   "source": [
    "## Tupules\n",
    "## Ordered\n",
    "## Immutable collections of data\n",
    "\n",
    "tpl = (1, \"Shahzaib\", 5.4, True)\n",
    "print(type(tpl))"
   ]
  },
  {
   "cell_type": "code",
   "execution_count": 3,
   "id": "547cb482",
   "metadata": {},
   "outputs": [
    {
     "name": "stdout",
     "output_type": "stream",
     "text": [
      "<class 'tuple'>\n"
     ]
    }
   ],
   "source": [
    "tpl = 1,2,3,4,5,6\n",
    "print(type(tpl))"
   ]
  },
  {
   "cell_type": "code",
   "execution_count": 1,
   "id": "bd2b1e9f",
   "metadata": {},
   "outputs": [
    {
     "name": "stdout",
     "output_type": "stream",
     "text": [
      "<class 'tuple'>\n"
     ]
    }
   ],
   "source": [
    "lst = [1,2,3,4,4, 'Shahzaib', 'Ayesha', 'Alishba', True, False, 6.2, 6.7]\n",
    "\n",
    "tpl = tuple(lst) ## Type Casting\n",
    "print(type(tpl))"
   ]
  },
  {
   "cell_type": "code",
   "execution_count": 2,
   "id": "3ae8856b",
   "metadata": {},
   "outputs": [
    {
     "name": "stdout",
     "output_type": "stream",
     "text": [
      "3\n",
      "False\n",
      "(1, 2, 3, 4, 4, 'Shahzaib', 'Ayesha', 'Alishba', True, False, 6.2, 6.7)\n",
      "(1, 2, 3, 4, 4)\n",
      "(3, 4, 4, 'Shahzaib', 'Ayesha')\n",
      "(4, 'Ayesha', True, 6.2)\n"
     ]
    }
   ],
   "source": [
    "## Accessing Tupules\n",
    "# Indexing\n",
    "print(tpl[2])\n",
    "print(tpl[9])\n",
    "\n",
    "\n",
    "## Slicing Operations\n",
    "\n",
    "print(tpl[0:])\n",
    "print(tpl[:5])\n",
    "print(tpl[2:7])\n",
    "print(tpl[4::2])"
   ]
  },
  {
   "cell_type": "code",
   "execution_count": null,
   "id": "c73a164d",
   "metadata": {},
   "outputs": [],
   "source": [
    "## Operations and Methods\n",
    "\n",
    "tpl.count('Shahzaib')\n",
    "tpl.index('Shahzaib')\n",
    "print(tpl.index('Shahzaib'))"
   ]
  },
  {
   "cell_type": "code",
   "execution_count": null,
   "id": "3b8a548e",
   "metadata": {},
   "outputs": [],
   "source": [
    "tpl * 3"
   ]
  },
  {
   "cell_type": "code",
   "execution_count": 7,
   "id": "a2f2343e",
   "metadata": {},
   "outputs": [
    {
     "name": "stdout",
     "output_type": "stream",
     "text": [
      "(1, 2, 3, 4, 5, 6, 1, 2, 3, 4, 5, 6, 7, 7)\n"
     ]
    }
   ],
   "source": [
    "numbers = (1,2,3,4,5,6,7,7)\n",
    "\n",
    "mixed_tpl = tpl + numbers\n",
    "\n",
    "print(mixed_tpl)"
   ]
  },
  {
   "cell_type": "code",
   "execution_count": 8,
   "id": "273677ad",
   "metadata": {},
   "outputs": [],
   "source": [
    "## Packing and Unpacking\n",
    "\n",
    "tpl = 2,3,4,5,\"Shahzaib\", '21', \"Microbiology\""
   ]
  },
  {
   "cell_type": "code",
   "execution_count": null,
   "id": "dffd9905",
   "metadata": {},
   "outputs": [
    {
     "name": "stdout",
     "output_type": "stream",
     "text": [
      "2\n",
      "[3, 4, 5, 'Shahzaib', '21']\n",
      "Microbiology\n"
     ]
    }
   ],
   "source": [
    "##Unpacking tupules with *\n",
    "\n",
    "first, *middle, last = tpl\n",
    "\n",
    "print(first)\n",
    "print(middle)\n",
    "print(last)"
   ]
  },
  {
   "cell_type": "code",
   "execution_count": 10,
   "id": "1e2a8fdf",
   "metadata": {},
   "outputs": [
    {
     "name": "stdout",
     "output_type": "stream",
     "text": [
      "Shahzaib\n",
      "Ayesha\n",
      "Alishba\n"
     ]
    }
   ],
   "source": [
    "tpl = \"Shahzaib\", \"Ayesha\", \"Alishba\"\n",
    "\n",
    "a,b,c = tpl\n",
    "print(a)\n",
    "print(b)\n",
    "print(c)"
   ]
  },
  {
   "cell_type": "code",
   "execution_count": 11,
   "id": "6a50067a",
   "metadata": {},
   "outputs": [
    {
     "name": "stdout",
     "output_type": "stream",
     "text": [
      "Hi,2 \n",
      "Hi,3 \n",
      "Hi,4 \n",
      "Hi,5 \n",
      "Hi,Shahzaib \n",
      "Hi,21 \n",
      "Hi,Microbiology \n"
     ]
    }
   ],
   "source": [
    "## Iterating Over Tupulees\n",
    "\n",
    "tpl = 2,3,4,5,\"Shahzaib\", '21', \"Microbiology\"\n",
    "\n",
    "for i in tpl:\n",
    "        print(f\"Hi,{i} \")\n"
   ]
  },
  {
   "cell_type": "code",
   "execution_count": 22,
   "id": "88ae61e9",
   "metadata": {},
   "outputs": [],
   "source": [
    "## Nested Tupules\n",
    "\n",
    "nested_list = [[1,2,3,4],['Shahzaib','Ayesha', [True, False]]]\n",
    "\n",
    "nested_tupule = ((1,2,3,4), ('Shahzaib','Ayesha'), (True, False))"
   ]
  },
  {
   "cell_type": "code",
   "execution_count": 23,
   "id": "ff6d7312",
   "metadata": {},
   "outputs": [
    {
     "name": "stdout",
     "output_type": "stream",
     "text": [
      "2\n",
      "4\n",
      "6\n",
      "8\n",
      "ShahzaibShahzaib\n",
      "AyeshaAyesha\n",
      "2\n",
      "0\n"
     ]
    }
   ],
   "source": [
    "for i in nested_tupule:\n",
    "    for j in i:\n",
    "        print(f\"{j*2}\")"
   ]
  },
  {
   "cell_type": "code",
   "execution_count": 24,
   "id": "a16390d3",
   "metadata": {},
   "outputs": [],
   "source": [
    "## Nested Tupules\n",
    "\n",
    "nested_list = [[1,2,3,4],['Shahzaib','Ayesha', [True, False]]]\n",
    "\n",
    "nested_tupule = ((1,2,3,4), ('Shahzaib','Ayesha'), (True, False))"
   ]
  },
  {
   "cell_type": "code",
   "execution_count": 26,
   "id": "a6656409",
   "metadata": {},
   "outputs": [
    {
     "name": "stdout",
     "output_type": "stream",
     "text": [
      "[[1, 2, 'UAF', 4], ['Shahzaib', 'Ayesha', [True, False]]]\n"
     ]
    }
   ],
   "source": [
    "## Modifying the List element\n",
    "\n",
    "nested_list[0][2] = \"UAF\"\n",
    "print(nested_list)"
   ]
  },
  {
   "cell_type": "code",
   "execution_count": 4,
   "id": "c496af7d",
   "metadata": {},
   "outputs": [
    {
     "ename": "NameError",
     "evalue": "name 'nested_tupule' is not defined",
     "output_type": "error",
     "traceback": [
      "\u001b[31m---------------------------------------------------------------------------\u001b[39m",
      "\u001b[31mNameError\u001b[39m                                 Traceback (most recent call last)",
      "\u001b[36mCell\u001b[39m\u001b[36m \u001b[39m\u001b[32mIn[4]\u001b[39m\u001b[32m, line 3\u001b[39m\n\u001b[32m      1\u001b[39m \u001b[38;5;66;03m## Modyfying the Nested Tubule\u001b[39;00m\n\u001b[32m----> \u001b[39m\u001b[32m3\u001b[39m \u001b[43mnested_tupule\u001b[49m[\u001b[32m1\u001b[39m][\u001b[32m1\u001b[39m]=\u001b[33m\"\u001b[39m\u001b[33msecond name\u001b[39m\u001b[33m\"\u001b[39m\n\u001b[32m      4\u001b[39m \u001b[38;5;28mprint\u001b[39m(nested_tupule)\n",
      "\u001b[31mNameError\u001b[39m: name 'nested_tupule' is not defined"
     ]
    }
   ],
   "source": [
    "## Modyfying the Nested Tubule\n",
    "\n",
    "nested_tupule[1][1]=\"second name\"\n",
    "print(nested_tupule)"
   ]
  },
  {
   "cell_type": "markdown",
   "id": "3f008fb3",
   "metadata": {},
   "source": [
    "## Sets in Python\n",
    "# Sets are unordered collections of unique elements.\n",
    "\n",
    "- Creating Sets\n",
    "- Accessing Elements\n",
    "- Methods and Operations "
   ]
  },
  {
   "cell_type": "code",
   "execution_count": 30,
   "id": "12db5290",
   "metadata": {},
   "outputs": [
    {
     "name": "stdout",
     "output_type": "stream",
     "text": [
      "{1, 2, 3, 4, 5, 6, 7, 8, 9}\n",
      "<class 'set'>\n"
     ]
    }
   ],
   "source": [
    "## Ordered\n",
    "## Unique Elements\n",
    "\n",
    "new_set = {1,2,3,4,5,6,7,8,7,9}\n",
    "print(new_set)\n",
    "print(type(new_set))"
   ]
  },
  {
   "cell_type": "code",
   "execution_count": 32,
   "id": "b8a2259f",
   "metadata": {},
   "outputs": [
    {
     "name": "stdout",
     "output_type": "stream",
     "text": [
      "{1, 2, 3, 4, 5, 6, 7, 8, 9}\n"
     ]
    }
   ],
   "source": [
    "lst = [1,2,3,4,5,6,7,7,7,7,8,4,8,9,9]\n",
    "new_set = set(lst)\n",
    "print(new_set)"
   ]
  },
  {
   "cell_type": "code",
   "execution_count": 34,
   "id": "7d522c2e",
   "metadata": {},
   "outputs": [
    {
     "data": {
      "text/plain": [
       "['__and__',\n",
       " '__class__',\n",
       " '__class_getitem__',\n",
       " '__contains__',\n",
       " '__delattr__',\n",
       " '__dir__',\n",
       " '__doc__',\n",
       " '__eq__',\n",
       " '__format__',\n",
       " '__ge__',\n",
       " '__getattribute__',\n",
       " '__getstate__',\n",
       " '__gt__',\n",
       " '__hash__',\n",
       " '__iand__',\n",
       " '__init__',\n",
       " '__init_subclass__',\n",
       " '__ior__',\n",
       " '__isub__',\n",
       " '__iter__',\n",
       " '__ixor__',\n",
       " '__le__',\n",
       " '__len__',\n",
       " '__lt__',\n",
       " '__ne__',\n",
       " '__new__',\n",
       " '__or__',\n",
       " '__rand__',\n",
       " '__reduce__',\n",
       " '__reduce_ex__',\n",
       " '__repr__',\n",
       " '__ror__',\n",
       " '__rsub__',\n",
       " '__rxor__',\n",
       " '__setattr__',\n",
       " '__sizeof__',\n",
       " '__str__',\n",
       " '__sub__',\n",
       " '__subclasshook__',\n",
       " '__xor__',\n",
       " 'add',\n",
       " 'clear',\n",
       " 'copy',\n",
       " 'difference',\n",
       " 'difference_update',\n",
       " 'discard',\n",
       " 'intersection',\n",
       " 'intersection_update',\n",
       " 'isdisjoint',\n",
       " 'issubset',\n",
       " 'issuperset',\n",
       " 'pop',\n",
       " 'remove',\n",
       " 'symmetric_difference',\n",
       " 'symmetric_difference_update',\n",
       " 'union',\n",
       " 'update']"
      ]
     },
     "execution_count": 34,
     "metadata": {},
     "output_type": "execute_result"
    }
   ],
   "source": [
    "dir(new_set)"
   ]
  },
  {
   "cell_type": "code",
   "execution_count": 7,
   "id": "4a7bbe68",
   "metadata": {},
   "outputs": [
    {
     "name": "stdout",
     "output_type": "stream",
     "text": [
      "{1, 2, 3, 4, 5}\n"
     ]
    }
   ],
   "source": [
    "## Methods and Operations\n",
    "\n",
    "set_1 = {1,2,3,4}\n",
    "set_1.add(5)\n",
    "print(set_1)"
   ]
  },
  {
   "cell_type": "code",
   "execution_count": 8,
   "id": "c28968c1",
   "metadata": {},
   "outputs": [
    {
     "name": "stdout",
     "output_type": "stream",
     "text": [
      "{1, 2, 3, 4}\n"
     ]
    }
   ],
   "source": [
    "set_1.discard(5)\n",
    "print(set_1)"
   ]
  },
  {
   "cell_type": "code",
   "execution_count": 9,
   "id": "3cea50c5",
   "metadata": {},
   "outputs": [
    {
     "name": "stdout",
     "output_type": "stream",
     "text": [
      "{2}\n",
      "{1, 3, 4}\n",
      "{1, 2, 3, 4, 5}\n"
     ]
    }
   ],
   "source": [
    "set_2 = {3,4,5,1}\n",
    "\n",
    "print(set_1.difference(set_2))\n",
    "\n",
    "print(set_1.intersection(set_2))\n",
    "\n",
    "print(set_1.union(set_2))\n"
   ]
  },
  {
   "cell_type": "code",
   "execution_count": 12,
   "id": "2315832d",
   "metadata": {},
   "outputs": [
    {
     "name": "stdout",
     "output_type": "stream",
     "text": [
      "{2, 5}\n"
     ]
    }
   ],
   "source": [
    "## symetric difference\n",
    "\n",
    "print(set_1.symmetric_difference(set_2))"
   ]
  },
  {
   "cell_type": "code",
   "execution_count": 40,
   "id": "b7b7b489",
   "metadata": {},
   "outputs": [],
   "source": [
    "text = \"Shahzaib is a veterinarian.\""
   ]
  },
  {
   "cell_type": "code",
   "execution_count": 41,
   "id": "0480edc3",
   "metadata": {},
   "outputs": [
    {
     "name": "stdout",
     "output_type": "stream",
     "text": [
      "{'i', 's', 'r', ' ', 'h', 'a', 'z', 'v', 'n', 'e', 'S', 'b', '.', 't'}\n"
     ]
    }
   ],
   "source": [
    "text_set = set(text)\n",
    "print(text_set)"
   ]
  },
  {
   "cell_type": "code",
   "execution_count": 47,
   "id": "f180ca7f",
   "metadata": {},
   "outputs": [],
   "source": [
    "text = \"Shahzaib is a veterinarian, he is also a data scientist.\""
   ]
  },
  {
   "cell_type": "code",
   "execution_count": 50,
   "id": "5ebfda72",
   "metadata": {},
   "outputs": [
    {
     "name": "stdout",
     "output_type": "stream",
     "text": [
      "['Shahzaib', 'is', 'a', 'veterinarian,', 'he', 'is', 'also', 'a', 'data', 'scientist.']\n",
      "{'he', 'Shahzaib', 'a', 'data', 'veterinarian,', 'scientist.', 'is', 'also'}\n",
      "8\n"
     ]
    }
   ],
   "source": [
    "## splitting the text\n",
    "\n",
    "words = text.split()\n",
    "print(words)\n",
    "\n",
    "## Type casting in set\n",
    "\n",
    "unique_words = set(words)\n",
    "print(unique_words)\n",
    "print(len(unique_words))"
   ]
  },
  {
   "cell_type": "code",
   "execution_count": null,
   "id": "d605d17c",
   "metadata": {},
   "outputs": [],
   "source": []
  },
  {
   "cell_type": "code",
   "execution_count": null,
   "id": "7dc642bf",
   "metadata": {},
   "outputs": [],
   "source": []
  }
 ],
 "metadata": {
  "kernelspec": {
   "display_name": "Python 3",
   "language": "python",
   "name": "python3"
  },
  "language_info": {
   "codemirror_mode": {
    "name": "ipython",
    "version": 3
   },
   "file_extension": ".py",
   "mimetype": "text/x-python",
   "name": "python",
   "nbconvert_exporter": "python",
   "pygments_lexer": "ipython3",
   "version": "3.12.0"
  }
 },
 "nbformat": 4,
 "nbformat_minor": 5
}
