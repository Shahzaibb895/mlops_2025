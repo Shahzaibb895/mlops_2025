{
 "cells": [
  {
   "cell_type": "code",
   "execution_count": 61,
   "id": "3b6924f8",
   "metadata": {},
   "outputs": [
    {
     "name": "stdout",
     "output_type": "stream",
     "text": [
      "<class 'dict'>\n"
     ]
    }
   ],
   "source": [
    "## Creating Dictionaries\n",
    "\n",
    "dict_1 = {}\n",
    "print(type(dict_1))"
   ]
  },
  {
   "cell_type": "code",
   "execution_count": 62,
   "id": "03065242",
   "metadata": {},
   "outputs": [
    {
     "name": "stdout",
     "output_type": "stream",
     "text": [
      "{'name': 'Shahzaib', 'age': '21', 'city': 'Sargodha'}\n"
     ]
    }
   ],
   "source": [
    "dict_1 = {\"name\": \"Shahzaib\", \"age\": \"21\", \"city\": \"Sargodha\"}\n",
    "\n",
    "print(dict_1)"
   ]
  },
  {
   "cell_type": "markdown",
   "id": "949b8e95",
   "metadata": {},
   "source": [
    "- Key Unique and immutable"
   ]
  },
  {
   "cell_type": "code",
   "execution_count": 63,
   "id": "d586cb9d",
   "metadata": {},
   "outputs": [
    {
     "name": "stdout",
     "output_type": "stream",
     "text": [
      "21\n",
      "Shahzaib\n",
      "Shahzaib\n"
     ]
    }
   ],
   "source": [
    "## Accessing the Dictionaries\n",
    "\n",
    "print(dict_1[\"age\"])\n",
    "print(dict_1[\"name\"])\n",
    "\n",
    "## Dictionaries Methodds\n",
    "\n",
    "print(dict_1.get(\"name\"))"
   ]
  },
  {
   "cell_type": "code",
   "execution_count": 64,
   "id": "ccac11bb",
   "metadata": {},
   "outputs": [
    {
     "name": "stdout",
     "output_type": "stream",
     "text": [
      "dict_keys(['name', 'age', 'city'])\n",
      "<built-in method values of dict object at 0x000001F238C7B5C0>\n",
      "dict_items([('name', 'Shahzaib'), ('age', '21'), ('city', 'Sargodha')])\n"
     ]
    }
   ],
   "source": [
    "keys = dict_1.keys()\n",
    "values = dict_1.values\n",
    "items = dict_1.items()\n",
    "\n",
    "print(keys)\n",
    "print(values)\n",
    "print(items)"
   ]
  },
  {
   "cell_type": "code",
   "execution_count": 65,
   "id": "4444ab92",
   "metadata": {},
   "outputs": [
    {
     "name": "stdout",
     "output_type": "stream",
     "text": [
      "{'name': 'Shahzaib', 'age': '21', 'city': 'Sargodha'}\n"
     ]
    }
   ],
   "source": [
    "## Shallow Copy\n",
    "\n",
    "clone_1 = dict_1\n",
    "\n",
    "print(clone_1)"
   ]
  },
  {
   "cell_type": "code",
   "execution_count": 66,
   "id": "75b5e04a",
   "metadata": {},
   "outputs": [
    {
     "name": "stdout",
     "output_type": "stream",
     "text": [
      "{'name': 'Ayesha', 'age': '21', 'city': 'Sargodha'}\n",
      "{'name': 'Ayesha', 'age': '21', 'city': 'Sargodha'}\n"
     ]
    }
   ],
   "source": [
    "dict_1[\"name\"] = \"Ayesha\"\n",
    "\n",
    "print(dict_1)\n",
    "print(clone_1)"
   ]
  },
  {
   "cell_type": "code",
   "execution_count": 67,
   "id": "9b917358",
   "metadata": {},
   "outputs": [
    {
     "name": "stdout",
     "output_type": "stream",
     "text": [
      "{'name': 'Shahzaib', 'age': '21', 'city': 'Sargodha'}\n",
      "{'name': 'Ayesha', 'age': '21', 'city': 'Sargodha'}\n"
     ]
    }
   ],
   "source": [
    "clone_2 = dict_1.copy()\n",
    "\n",
    "dict_1[\"name\"] = \"Shahzaib\"\n",
    "\n",
    "print(dict_1)\n",
    "print(clone_2)"
   ]
  },
  {
   "cell_type": "code",
   "execution_count": 68,
   "id": "c4ff1449",
   "metadata": {},
   "outputs": [
    {
     "data": {
      "text/plain": [
       "['__class__',\n",
       " '__class_getitem__',\n",
       " '__contains__',\n",
       " '__delattr__',\n",
       " '__delitem__',\n",
       " '__dir__',\n",
       " '__doc__',\n",
       " '__eq__',\n",
       " '__format__',\n",
       " '__ge__',\n",
       " '__getattribute__',\n",
       " '__getitem__',\n",
       " '__getstate__',\n",
       " '__gt__',\n",
       " '__hash__',\n",
       " '__init__',\n",
       " '__init_subclass__',\n",
       " '__ior__',\n",
       " '__iter__',\n",
       " '__le__',\n",
       " '__len__',\n",
       " '__lt__',\n",
       " '__ne__',\n",
       " '__new__',\n",
       " '__or__',\n",
       " '__reduce__',\n",
       " '__reduce_ex__',\n",
       " '__repr__',\n",
       " '__reversed__',\n",
       " '__ror__',\n",
       " '__setattr__',\n",
       " '__setitem__',\n",
       " '__sizeof__',\n",
       " '__str__',\n",
       " '__subclasshook__',\n",
       " 'clear',\n",
       " 'copy',\n",
       " 'fromkeys',\n",
       " 'get',\n",
       " 'items',\n",
       " 'keys',\n",
       " 'pop',\n",
       " 'popitem',\n",
       " 'setdefault',\n",
       " 'update',\n",
       " 'values']"
      ]
     },
     "execution_count": 68,
     "metadata": {},
     "output_type": "execute_result"
    }
   ],
   "source": [
    "dir(dict_1)"
   ]
  },
  {
   "cell_type": "code",
   "execution_count": 69,
   "id": "4bb4d2f7",
   "metadata": {},
   "outputs": [
    {
     "name": "stdout",
     "output_type": "stream",
     "text": [
      "{'name': 'Shahzaib', 'age': 22, 'city': 'Sargodha'}\n",
      "{'name': 'Shahzaib', 'age': 22, 'city': 'Sargodha', 'field': 'Vet'}\n",
      "{'name': 'Shahzaib', 'age': 22, 'field': 'Vet'}\n"
     ]
    }
   ],
   "source": [
    "## Update, Delete, and adding new records\n",
    "\n",
    "dict_1[\"age\"] = 22 ## Updating an Existing Record\n",
    "print(dict_1)\n",
    "\n",
    "dict_1[\"field\"] = \"Vet\" ## Adding a new field\n",
    "print(dict_1)\n",
    "\n",
    "del dict_1[\"city\"]\n",
    "\n",
    "print(dict_1)"
   ]
  },
  {
   "cell_type": "code",
   "execution_count": 70,
   "id": "a810698c",
   "metadata": {},
   "outputs": [
    {
     "name": "stdout",
     "output_type": "stream",
     "text": [
      "dict_keys(['name', 'age', 'field'])\n",
      "dict_keys(['name', 'age', 'field'])\n",
      "dict_keys(['name', 'age', 'field'])\n"
     ]
    }
   ],
   "source": [
    "##  Iterating in Dictionaries\n",
    "\n",
    "for key in dict_1.keys():\n",
    "    print(keys)"
   ]
  },
  {
   "cell_type": "code",
   "execution_count": 71,
   "id": "838f1334",
   "metadata": {},
   "outputs": [
    {
     "name": "stdout",
     "output_type": "stream",
     "text": [
      "Shahzaib\n",
      "22\n",
      "Vet\n"
     ]
    }
   ],
   "source": [
    "for value in dict_1.values():\n",
    "    print(value)\n"
   ]
  },
  {
   "cell_type": "code",
   "execution_count": 72,
   "id": "ff73f50d",
   "metadata": {},
   "outputs": [
    {
     "name": "stdout",
     "output_type": "stream",
     "text": [
      "name: Shahzaib\n",
      "age: 22\n",
      "field: Vet\n"
     ]
    }
   ],
   "source": [
    "for key,value in dict_1.items():\n",
    "    print(f\"{key}: {value}\")"
   ]
  },
  {
   "cell_type": "code",
   "execution_count": 73,
   "id": "d05e4a1d",
   "metadata": {},
   "outputs": [
    {
     "name": "stdout",
     "output_type": "stream",
     "text": [
      "{'name': 'Shahzaib', 'age': '21', 'Dept': 'DVM', 'Club': 'DCUAF'}\n",
      "{'name': 'Ayesha', 'age': '21', 'Dept': 'IOM', 'Club': 'DCUAF'}\n"
     ]
    }
   ],
   "source": [
    "## Nested Dictionaries\n",
    "\n",
    "nest_di = {\n",
    "    \"2023-ag-4592\" : {'name' : \"Shahzaib\", 'age': '21', 'Dept': 'DVM', 'Club': 'DCUAF'},\n",
    "    \"2022-AG-4025\" : {'name' : \"Ayesha\", 'age': '21', 'Dept':'IOM', 'Club': 'DCUAF'}\n",
    "}\n",
    "\n",
    "print(nest_di['2023-ag-4592'])\n",
    "print(nest_di['2022-AG-4025'])"
   ]
  },
  {
   "cell_type": "code",
   "execution_count": 74,
   "id": "c0e12a59",
   "metadata": {},
   "outputs": [
    {
     "name": "stdout",
     "output_type": "stream",
     "text": [
      "2023-ag-4592 -> name : Shahzaib\n",
      "2023-ag-4592 -> age : 21\n",
      "2023-ag-4592 -> Dept : DVM\n",
      "2023-ag-4592 -> Club : DCUAF\n",
      "2022-AG-4025 -> name : Ayesha\n",
      "2022-AG-4025 -> age : 21\n",
      "2022-AG-4025 -> Dept : IOM\n",
      "2022-AG-4025 -> Club : DCUAF\n"
     ]
    }
   ],
   "source": [
    "## Iteration \n",
    "\n",
    "for key, value in nest_di.items():\n",
    "    for i,j in value.items():\n",
    "        print(f\"{key} -> {i} : {j}\")"
   ]
  },
  {
   "cell_type": "code",
   "execution_count": 75,
   "id": "5acc2c2d",
   "metadata": {},
   "outputs": [
    {
     "name": "stdout",
     "output_type": "stream",
     "text": [
      "{1: 4, 2: 1, 4: 1, 5: 1, 6: 1, 76: 1, 3: 2}\n"
     ]
    }
   ],
   "source": [
    "##\n",
    "\n",
    "numbers = [1,1,1,1,2,4,5,6,76,3,3]\n",
    "\n",
    "frequency = {}\n",
    "\n",
    "for i in numbers:\n",
    "    if i in frequency:\n",
    "        frequency[i] += 1\n",
    "    else:\n",
    "        frequency[i] = 1\n",
    "\n",
    "print(frequency)"
   ]
  },
  {
   "cell_type": "code",
   "execution_count": 76,
   "id": "f1ef6d43",
   "metadata": {},
   "outputs": [
    {
     "name": "stdout",
     "output_type": "stream",
     "text": [
      "{\"2023-ag-4592\": {\"name\": \"Shahzaib\", \"age\": \"21\", \"Dept\": \"DVM\", \"Club\": \"DCUAF\"}, \"2022-AG-4025\": {\"name\": \"Ayesha\", \"age\": \"21\", \"Dept\": \"IOM\", \"Club\": \"DCUAF\"}}\n",
      "{'2023-ag-4592': {'name': 'Shahzaib', 'age': '21', 'Dept': 'DVM', 'Club': 'DCUAF'}, '2022-AG-4025': {'name': 'Ayesha', 'age': '21', 'Dept': 'IOM', 'Club': 'DCUAF'}}\n"
     ]
    }
   ],
   "source": [
    "import json\n",
    "\n",
    "## Converting to json strings\n",
    "parsed_data = json.dumps(nest_di)\n",
    "print(parsed_data)\n",
    "nested_di = json.loads(parsed_data)\n",
    "print(nested_di)"
   ]
  },
  {
   "cell_type": "code",
   "execution_count": null,
   "id": "b675ee63",
   "metadata": {},
   "outputs": [],
   "source": []
  },
  {
   "cell_type": "code",
   "execution_count": null,
   "id": "1bb96ec3",
   "metadata": {},
   "outputs": [],
   "source": []
  }
 ],
 "metadata": {
  "kernelspec": {
   "display_name": "Python 3",
   "language": "python",
   "name": "python3"
  },
  "language_info": {
   "codemirror_mode": {
    "name": "ipython",
    "version": 3
   },
   "file_extension": ".py",
   "mimetype": "text/x-python",
   "name": "python",
   "nbconvert_exporter": "python",
   "pygments_lexer": "ipython3",
   "version": "3.12.0"
  }
 },
 "nbformat": 4,
 "nbformat_minor": 5
}
