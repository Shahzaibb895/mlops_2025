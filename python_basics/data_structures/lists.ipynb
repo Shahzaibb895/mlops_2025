{
 "cells": [
  {
   "cell_type": "markdown",
   "id": "3d7b96a0",
   "metadata": {},
   "source": [
    "## Lists in Python\n",
    "- Creation\n",
    "- Accessing the lists\n",
    "- List Slicing\n",
    "- Lists Methods\n",
    "- Nested Lists\n",
    "- Iterating over the lists\n",
    "- List Comprehension\n",
    "- Nested List Comprehension\n"
   ]
  },
  {
   "cell_type": "markdown",
   "id": "3ad6c386",
   "metadata": {},
   "source": [
    "- Lists are mutable collection of data."
   ]
  },
  {
   "cell_type": "code",
   "execution_count": 2,
   "id": "62ff705e",
   "metadata": {},
   "outputs": [
    {
     "name": "stdout",
     "output_type": "stream",
     "text": [
      "<class 'list'>\n"
     ]
    }
   ],
   "source": [
    "## Creating Lists\n",
    "\n",
    "lst = []\n",
    "print(type(lst))"
   ]
  },
  {
   "cell_type": "code",
   "execution_count": 27,
   "id": "78476db7",
   "metadata": {},
   "outputs": [
    {
     "name": "stdout",
     "output_type": "stream",
     "text": [
      "[1, 2, 3, 4, 5, 'Shahzaib', 'Ayesha', 'Alishba', 5.7, 5.8, 5.9, True, False]\n"
     ]
    }
   ],
   "source": [
    "lst = [1,2,3,4,5, 'Shahzaib', 'Ayesha', 'Alishba', 5.7,5.8,5.9, True, False]\n",
    "print(lst)"
   ]
  },
  {
   "cell_type": "code",
   "execution_count": 22,
   "id": "53f760e8",
   "metadata": {},
   "outputs": [
    {
     "name": "stdout",
     "output_type": "stream",
     "text": [
      "1\n",
      "2\n",
      "True\n",
      "False\n"
     ]
    }
   ],
   "source": [
    "## Accessing the lists\n",
    "## Indexing for accessing the list elements\n",
    "\n",
    "print(lst[0])\n",
    "print(lst[1])\n",
    "print(lst[11])\n",
    "print(lst[-1])"
   ]
  },
  {
   "cell_type": "code",
   "execution_count": 23,
   "id": "e3993f96",
   "metadata": {},
   "outputs": [
    {
     "name": "stdout",
     "output_type": "stream",
     "text": [
      "[1, 2, 3]\n",
      "[3, 4, 5, 'Shahzaib']\n",
      "[3, 5, 'Ayesha', 5.7, 5.9, False]\n",
      "[3, 4, 5, 'Shahzaib', 'Ayesha', 'Alishba', 5.7, 5.8, 5.9, True, False]\n",
      "[1, 2, 3, 4, 5, 'Shahzaib', 'Ayesha']\n",
      "[]\n"
     ]
    }
   ],
   "source": [
    "## Slicing Operations\n",
    "\n",
    "print(lst[0:3])\n",
    "print(lst[2:6])\n",
    "print(lst[2::2])\n",
    "print(lst[2:])\n",
    "print(lst[:7])\n",
    "print(lst[-1:-10])"
   ]
  },
  {
   "cell_type": "code",
   "execution_count": 24,
   "id": "5e0fbd37",
   "metadata": {},
   "outputs": [
    {
     "name": "stdout",
     "output_type": "stream",
     "text": [
      "[1, 2, 3, 4, 5, 'Shahzaib', 'Ayesha', 'DVM', 5.7, 5.8, 5.9, True, False]\n"
     ]
    }
   ],
   "source": [
    "## Modifying the List Elements\n",
    "\n",
    "lst[7] = \"DVM\"\n",
    "print(lst)"
   ]
  },
  {
   "cell_type": "code",
   "execution_count": 25,
   "id": "0675f35f",
   "metadata": {},
   "outputs": [
    {
     "name": "stdout",
     "output_type": "stream",
     "text": [
      "[1, 2, 3, 4, 5, 'Shahzaib', 'Ayesha', 'DVM', 5.7, 5.8, 5.9, True, False, 'Ayesha']\n",
      "Ayesha\n",
      "[1, 2, 3, 4, 5, 'Shahzaib', 'Ayesha', 5.7, 5.8, 5.9, True, False]\n",
      "['apples', 'banana', 'cats', 'dogs', 'grapes']\n"
     ]
    }
   ],
   "source": [
    "## List Methods\n",
    "\n",
    "lst.append('Ayesha')\n",
    "print(lst)\n",
    "\n",
    "out_put = lst.pop()\n",
    "print(out_put)\n",
    "\n",
    "lst.remove('DVM')\n",
    "print(lst)\n",
    "\n",
    "fruit = ['banana', 'apples', 'grapes', 'cats', 'dogs']\n",
    "fruit.sort()\n",
    "print(fruit)"
   ]
  },
  {
   "cell_type": "code",
   "execution_count": 26,
   "id": "53486b3e",
   "metadata": {},
   "outputs": [
    {
     "name": "stdout",
     "output_type": "stream",
     "text": [
      "3\n",
      "5\n"
     ]
    }
   ],
   "source": [
    "## Nested Lists\n",
    "\n",
    "lst = [\n",
    "    [1, 2, 3],\n",
    "    [4, 5, 6],\n",
    "    [7, 8, 9],\n",
    "]\n",
    "\n",
    "print(lst[0][2])\n",
    "print(lst[1][1])"
   ]
  },
  {
   "cell_type": "code",
   "execution_count": 31,
   "id": "289eeaa8",
   "metadata": {},
   "outputs": [
    {
     "name": "stdout",
     "output_type": "stream",
     "text": [
      "SHAHZAIB AYESHA ALISHBA ALI AYESHA ALISHBA "
     ]
    }
   ],
   "source": [
    "## Iterating over the list\n",
    "\n",
    "lst = ['Shahzaib', 'Ayesha', 'Alishba', 'Ali', 'Ayesha', 'Alishba']\n",
    "\n",
    "for i in lst:\n",
    "    print(i.upper(), end=' ')\n",
    "\n"
   ]
  },
  {
   "cell_type": "code",
   "execution_count": 33,
   "id": "7fce27d8",
   "metadata": {},
   "outputs": [
    {
     "name": "stdout",
     "output_type": "stream",
     "text": [
      "[[1, 2, 3], [4, 5, 6], [7, 8, 9]]\n"
     ]
    }
   ],
   "source": [
    "lst = [\n",
    "    [1, 2, 3],\n",
    "    [4, 5, 6],\n",
    "    [7, 8, 9],\n",
    "]\n",
    "\n",
    "num =[]\n",
    "\n",
    "for i in lst:\n",
    "    num.append(i[0:])\n",
    "\n",
    "print(num)"
   ]
  },
  {
   "cell_type": "code",
   "execution_count": 34,
   "id": "1c86491c",
   "metadata": {},
   "outputs": [
    {
     "name": "stdout",
     "output_type": "stream",
     "text": [
      "[1, 2, 3, 4, 5, 6, 7, 8, 9]\n"
     ]
    }
   ],
   "source": [
    "lst = [\n",
    "    [1, 2, 3],\n",
    "    [4, 5, 6],\n",
    "    [7, 8, 9],\n",
    "]\n",
    "\n",
    "num =[]\n",
    "\n",
    "for i in lst:\n",
    "    for j in i:\n",
    "        num.append(j)\n",
    "\n",
    "print(num)"
   ]
  },
  {
   "cell_type": "markdown",
   "id": "2d1f0c63",
   "metadata": {},
   "source": [
    "## List Comprehension\n",
    "\n",
    "format_1 : [*expression for item in iterable*]\n",
    "\n",
    "format_2 : [*expression for item in iterable if condition*]\n",
    "\n",
    "## Nested List Comprehension\n",
    "\n",
    "format_3 : [*expression for item in iterable if condition for item2 in iterable2 if condition2*]"
   ]
  },
  {
   "cell_type": "code",
   "execution_count": 36,
   "id": "15ca0cb3",
   "metadata": {},
   "outputs": [
    {
     "name": "stdout",
     "output_type": "stream",
     "text": [
      "[0, 4, 16, 36, 64]\n"
     ]
    }
   ],
   "source": [
    "## List Comoprehension\n",
    "\n",
    "lst = []\n",
    "\n",
    "for i in range(10):\n",
    "    if i % 2 == 0:\n",
    "        lst.append(i * i)\n",
    "print(lst)"
   ]
  },
  {
   "cell_type": "code",
   "execution_count": 37,
   "id": "d2737401",
   "metadata": {},
   "outputs": [
    {
     "name": "stdout",
     "output_type": "stream",
     "text": [
      "[1, 9, 25, 49, 81]\n"
     ]
    }
   ],
   "source": [
    "lst = [ i * i for i in range(10) if i%2!=0]\n",
    "\n",
    "print(lst)"
   ]
  },
  {
   "cell_type": "code",
   "execution_count": 38,
   "id": "2d7ad022",
   "metadata": {},
   "outputs": [
    {
     "name": "stdout",
     "output_type": "stream",
     "text": [
      "[1, 2, 3, 4, 5, 6, 7, 8, 9]\n"
     ]
    }
   ],
   "source": [
    "## Nested List Comprehension\n",
    "\n",
    "lst = [\n",
    "    [1, 2, 3],\n",
    "    [4, 5, 6],\n",
    "    [7, 8, 9],\n",
    "]\n",
    "nest_lst = [j for i in lst for j in i]\n",
    "print(nest_lst)"
   ]
  },
  {
   "cell_type": "code",
   "execution_count": null,
   "id": "bd2f3268",
   "metadata": {},
   "outputs": [],
   "source": []
  }
 ],
 "metadata": {
  "kernelspec": {
   "display_name": "Python 3",
   "language": "python",
   "name": "python3"
  },
  "language_info": {
   "codemirror_mode": {
    "name": "ipython",
    "version": 3
   },
   "file_extension": ".py",
   "mimetype": "text/x-python",
   "name": "python",
   "nbconvert_exporter": "python",
   "pygments_lexer": "ipython3",
   "version": "3.12.0"
  }
 },
 "nbformat": 4,
 "nbformat_minor": 5
}
