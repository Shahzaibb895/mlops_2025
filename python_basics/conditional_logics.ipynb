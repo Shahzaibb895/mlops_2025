{
 "cells": [
  {
   "cell_type": "markdown",
   "metadata": {},
   "source": [
    "## Conditional Logics in Python\n",
    "- if, else, elif\n",
    "- nested if-else,\n",
    "- real world\n"
   ]
  },
  {
   "cell_type": "code",
   "execution_count": 2,
   "id": "8967b04e",
   "metadata": {},
   "outputs": [
    {
     "name": "stdout",
     "output_type": "stream",
     "text": [
      "You are eligible for voting\n"
     ]
    }
   ],
   "source": [
    "age = 21\n",
    "\n",
    "if age>18:\n",
    "    print(\"You are eligible for voting\")"
   ]
  },
  {
   "cell_type": "code",
   "execution_count": 6,
   "id": "bd569ce6",
   "metadata": {},
   "outputs": [
    {
     "name": "stdout",
     "output_type": "stream",
     "text": [
      "You are not eligible for voting\n"
     ]
    }
   ],
   "source": [
    "age = 13\n",
    "if age>18:\n",
    "    print(\"You are eligible for voting\") \n",
    "else:\n",
    "    print(\"You are not eligible for voting\")"
   ]
  },
  {
   "cell_type": "code",
   "execution_count": 12,
   "metadata": {},
   "outputs": [
    {
     "name": "stdout",
     "output_type": "stream",
     "text": [
      "You are eligible for voting\n"
     ]
    }
   ],
   "source": [
    "age = 21\n",
    "if age>18:\n",
    "    print(\"You are eligible for voting\") \n",
    "elif age<18:\n",
    "    print(\"You are younger.\")\n",
    "elif age!=int:\n",
    "    print(\"Invalid format\")\n",
    "else:\n",
    "    print(\"You are not eligible\")"
   ]
  },
  {
   "cell_type": "code",
   "execution_count": 18,
   "id": "801d3b26",
   "metadata": {},
   "outputs": [
    {
     "name": "stdout",
     "output_type": "stream",
     "text": [
      "0\n"
     ]
    }
   ],
   "source": [
    "   \n",
    "    ## Advanced Calculator with the help of nested if-else\n",
    "\n",
    "num_1 = int(input(\"Enter a number:\"))\n",
    "num_2 = int(input(\"Enter the second number:\"))\n",
    "operation = input(\"Enter an operation(+,-,*,/,//,%):\")\n",
    "\n",
    "if operation=='+':\n",
    "    sum = num_1 + num_2\n",
    "    print(sum)\n",
    "elif operation=='-':\n",
    "    diff = num_1 - num_2\n",
    "    print(diff)\n",
    "elif operation=='*':\n",
    "    multi = num_1 * num_2\n",
    "    print(multi)\n",
    "elif operation=='/':\n",
    "    if num_2!=0:\n",
    "        div = num_1 / num_2\n",
    "        print(div)\n",
    "    else:\n",
    "        print(\"Division can,t be performed with zero.\")\n",
    "elif operation=='//':\n",
    "    floor_div = num_1 // num_2\n",
    "    print(floor_div)\n",
    "elif operation=='%':\n",
    "    modulo = num_1 % num_2\n",
    "    print(modulo)\n",
    "else:\n",
    "    print(\"Invalid operation\")\n",
    "\n",
    "\n"
   ]
  },
  {
   "cell_type": "code",
   "execution_count": 2,
   "id": "91472cd8",
   "metadata": {},
   "outputs": [
    {
     "name": "stdout",
     "output_type": "stream",
     "text": [
      "The 490 is not a leap year.\n"
     ]
    }
   ],
   "source": [
    "#3 Nested if-else\n",
    "\n",
    "year = int(input(\"Enter the year.\"))\n",
    "\n",
    "if year%4==0:\n",
    "    if year%100==0:\n",
    "        if year%400==0:\n",
    "            print(f\"The {year} is a leap year.\")\n",
    "        else:\n",
    "            print(f\"The {year} is not a leap year.\")\n",
    "        print(f\"The {year} is a leap year.\")\n",
    "    print(f\"The {year} is a leap year\")\n",
    "else:\n",
    "    print(f\"The {year} is not a leap year.\")"
   ]
  },
  {
   "cell_type": "code",
   "execution_count": null,
   "id": "85b0880e",
   "metadata": {},
   "outputs": [
    {
     "name": "stdout",
     "output_type": "stream",
     "text": [
      "15.0\n"
     ]
    }
   ],
   "source": [
    "## Modified Calculator\n",
    "\n",
    "\n",
    "num_1 = int(input(\"Enter a number:\"))\n",
    "operation = input(\"Enter an operation(+,-,*,/,//,%):\")\n",
    "num_2 = int(input(\"Enter the second number:\"))\n",
    "\n",
    "\n",
    "if operation=='+':\n",
    "    sum = num_1 + num_2\n",
    "    print(sum)\n",
    "elif operation=='-':\n",
    "    diff = num_1 - num_2\n",
    "    print(diff)\n",
    "elif operation=='*':\n",
    "    multi = num_1 * num_2\n",
    "    print(multi)\n",
    "elif operation=='/':\n",
    "    if num_2!=0:\n",
    "        div = num_1 / num_2\n",
    "        print(div)\n",
    "    else:\n",
    "        print(\"Division can,t be performed by zero.\")\n",
    "elif operation=='//':\n",
    "    floor_div = num_1 // num_2\n",
    "    print(floor_div)\n",
    "elif operation=='%':\n",
    "    modulo = num_1 % num_2\n",
    "    print(modulo)\n",
    "else:\n",
    "    print(\"Invalid operation\")"
   ]
  },
  {
   "cell_type": "code",
   "execution_count": null,
   "id": "bf9e3d9c",
   "metadata": {},
   "outputs": [],
   "source": []
  }
 ],
 "metadata": {
  "kernelspec": {
   "display_name": "Python 3",
   "language": "python",
   "name": "python3"
  },
  "language_info": {
   "codemirror_mode": {
    "name": "ipython",
    "version": 3
   },
   "file_extension": ".py",
   "mimetype": "text/x-python",
   "name": "python",
   "nbconvert_exporter": "python",
   "pygments_lexer": "ipython3",
   "version": "3.12.0"
  }
 },
 "nbformat": 4,
 "nbformat_minor": 5
}
