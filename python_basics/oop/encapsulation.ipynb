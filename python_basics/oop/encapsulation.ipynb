{
 "cells": [
  {
   "cell_type": "markdown",
   "id": "6a8fdfe5",
   "metadata": {},
   "source": [
    "## Encapsulation in Python"
   ]
  },
  {
   "cell_type": "code",
   "execution_count": 10,
   "id": "1015402b",
   "metadata": {},
   "outputs": [
    {
     "name": "stdout",
     "output_type": "stream",
     "text": [
      "shahzaib\n",
      "21\n",
      "male\n"
     ]
    },
    {
     "data": {
      "text/plain": [
       "'shahzaib'"
      ]
     },
     "execution_count": 10,
     "metadata": {},
     "output_type": "execute_result"
    }
   ],
   "source": [
    "## Public Variables\n",
    "\n",
    "class Person:\n",
    "    def __init__(self, name, age, gender):\n",
    "        self.name = name\n",
    "        self.age = age\n",
    "        self.gender = gender\n",
    "\n",
    "p1 = Person('shahzaib', 21, 'male')\n",
    "\n",
    "print(p1.name)\n",
    "print(p1.age)\n",
    "print(p1.gender)\n",
    "\n",
    "dir(p1)\n",
    "\n",
    "def get_name(object):\n",
    "    return object.name\n",
    "\n",
    "get_name(p1)"
   ]
  },
  {
   "cell_type": "code",
   "execution_count": null,
   "id": "259cd651",
   "metadata": {},
   "outputs": [
    {
     "name": "stdout",
     "output_type": "stream",
     "text": [
      "Subhan\n",
      "22\n",
      "Male\n",
      "25\n"
     ]
    }
   ],
   "source": [
    "## Private Variables\n",
    "\n",
    "class Person:\n",
    "    def __init__(self, name, age, gender):\n",
    "        self.__name = name\n",
    "        self.__age = age\n",
    "        self.__gender = gender\n",
    "\n",
    "    # Getter Methods\n",
    "    def get_name(self):\n",
    "        return self.__name\n",
    "\n",
    "    def get_age(self):\n",
    "        return self.__age\n",
    "\n",
    "    def get_gender(self):\n",
    "        return self.__gender\n",
    "\n",
    "    # Setter Methods\n",
    "    def set_name(self, name):\n",
    "        self.__name = name\n",
    "\n",
    "    def set_age(self, age):\n",
    "        if age > 0:\n",
    "            self.__age = age\n",
    "        else:\n",
    "            print(\"Age should be greater than 0\")\n",
    "\n",
    "    def set_gender(self, gender):\n",
    "        self.__gender = gender\n",
    "\n",
    "\n",
    "# Creating object\n",
    "p2 = Person('Subhan', 22, 'Male')\n",
    "\n",
    "# Using getter methods\n",
    "print(p2.get_name())\n",
    "print(p2.get_age())\n",
    "print(p2.get_gender())\n",
    "\n",
    "# Using setter method\n",
    "p2.set_age(25)\n",
    "print(p2.get_age())\n"
   ]
  },
  {
   "cell_type": "code",
   "execution_count": 2,
   "id": "3c7536df",
   "metadata": {},
   "outputs": [
    {
     "name": "stdout",
     "output_type": "stream",
     "text": [
      "Ali\n",
      "32\n"
     ]
    }
   ],
   "source": [
    "## Protected Variables\n",
    "\n",
    "class Person:\n",
    "    def __init__(self, name, age, gender):\n",
    "        self._name = name\n",
    "        self._age = age\n",
    "        self._gender = gender\n",
    "\n",
    "class Employee(Person):\n",
    "    def __init__(self, name, age, gender):\n",
    "        super().__init__(name, age, gender)\n",
    "\n",
    "e1 = Employee('Ali', 32, 'M')\n",
    "\n",
    "print(e1._name)\n",
    "print(e1._age)"
   ]
  },
  {
   "cell_type": "code",
   "execution_count": 16,
   "id": "d9a0625c",
   "metadata": {},
   "outputs": [
    {
     "name": "stdout",
     "output_type": "stream",
     "text": [
      "Ali\n",
      "32\n"
     ]
    }
   ],
   "source": [
    "## Protected Variables\n",
    "\n",
    "class Person:\n",
    "    def __init__(self, name, age, gender):\n",
    "        self._name = name\n",
    "        self._age = age\n",
    "        self._gender = gender\n",
    "\n",
    "class Employee(Person):\n",
    "    def __init__(self, name, age, gender):\n",
    "        super().__init__(name, age, gender)\n",
    "\n",
    "e1 = Employee('Ali', '32', 'M')\n",
    "\n",
    "print(e1._name)\n",
    "print(e1._age)\n"
   ]
  },
  {
   "cell_type": "code",
   "execution_count": 5,
   "id": "be454eed",
   "metadata": {},
   "outputs": [
    {
     "ename": "TypeError",
     "evalue": "Person.get_name() missing 1 required positional argument: 'name'",
     "output_type": "error",
     "traceback": [
      "\u001b[31m---------------------------------------------------------------------------\u001b[39m",
      "\u001b[31mTypeError\u001b[39m                                 Traceback (most recent call last)",
      "\u001b[36mCell\u001b[39m\u001b[36m \u001b[39m\u001b[32mIn[5]\u001b[39m\u001b[32m, line 28\u001b[39m\n\u001b[32m     24\u001b[39m             \u001b[38;5;28mprint\u001b[39m(\u001b[33m\"\u001b[39m\u001b[33mAge should be greater than 0\u001b[39m\u001b[33m\"\u001b[39m)\n\u001b[32m     26\u001b[39m p2 = Person(\u001b[33m'\u001b[39m\u001b[33mSubhan\u001b[39m\u001b[33m'\u001b[39m,\u001b[32m22\u001b[39m,\u001b[33m'\u001b[39m\u001b[33mMale\u001b[39m\u001b[33m'\u001b[39m)\n\u001b[32m---> \u001b[39m\u001b[32m28\u001b[39m \u001b[38;5;28mprint\u001b[39m(\u001b[43mp2\u001b[49m\u001b[43m.\u001b[49m\u001b[43mget_name\u001b[49m\u001b[43m(\u001b[49m\u001b[43m)\u001b[49m)\n\u001b[32m     29\u001b[39m \u001b[38;5;28mprint\u001b[39m(p2.get_age())\n\u001b[32m     31\u001b[39m p2.set_age(\u001b[32m25\u001b[39m)\n",
      "\u001b[31mTypeError\u001b[39m: Person.get_name() missing 1 required positional argument: 'name'"
     ]
    }
   ],
   "source": [
    "\n",
    "\n",
    "class Person:\n",
    "    def __init__(self, name, age, gender):\n",
    "        self.__name = name\n",
    "        self.__age = age\n",
    "        self.__gender = gender\n",
    "\n",
    "\n",
    "\n",
    "    ## Getter and setter Method\n",
    "\n",
    "    ## Getter Method\n",
    "    \n",
    "    def get_name(self,name):\n",
    "        return self.__name\n",
    "\n",
    "    def get_gender(self,gender):\n",
    "        return self.__gender\n",
    "\n",
    "    def get_age(self,age):\n",
    "        return self.__age\n",
    "        if age>0:\n",
    "            self.__age = age\n",
    "        else:\n",
    "            print(\"Age should be greater than 0\")\n",
    "\n",
    "p2 = Person('Subhan',22,'Male')\n",
    "\n",
    "print(p2.get_name())\n",
    "print(p2.get_age())\n",
    "\n",
    "p2.set_age(25)\n",
    "print(p2.get_age())\n",
    "\n",
    "print(p2.get_gender())"
   ]
  },
  {
   "cell_type": "code",
   "execution_count": null,
   "id": "bbecb40c",
   "metadata": {},
   "outputs": [],
   "source": []
  },
  {
   "cell_type": "code",
   "execution_count": null,
   "id": "a56199f9",
   "metadata": {},
   "outputs": [],
   "source": []
  }
 ],
 "metadata": {
  "kernelspec": {
   "display_name": "Python 3",
   "language": "python",
   "name": "python3"
  },
  "language_info": {
   "codemirror_mode": {
    "name": "ipython",
    "version": 3
   },
   "file_extension": ".py",
   "mimetype": "text/x-python",
   "name": "python",
   "nbconvert_exporter": "python",
   "pygments_lexer": "ipython3",
   "version": "3.12.0"
  }
 },
 "nbformat": 4,
 "nbformat_minor": 5
}
