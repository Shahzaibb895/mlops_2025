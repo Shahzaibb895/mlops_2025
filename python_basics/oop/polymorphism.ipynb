{
 "cells": [
  {
   "cell_type": "markdown",
   "id": "1af1d7df",
   "metadata": {},
   "source": [
    "## Polymorphism in Python\n",
    "\n",
    "- Overriding\n",
    "- Abstract Based Classes"
   ]
  },
  {
   "cell_type": "code",
   "execution_count": 2,
   "id": "12524832",
   "metadata": {},
   "outputs": [
    {
     "name": "stdout",
     "output_type": "stream",
     "text": [
      "The animal makes a sound\n",
      "None\n",
      "The Lucy says woof!\n",
      "None\n"
     ]
    }
   ],
   "source": [
    "## Polymorphism with method overriding\n",
    "\n",
    "class Animal:\n",
    "    def __init__(self,name):\n",
    "        self.name = name\n",
    "\n",
    "    def speak(self):\n",
    "        print('The animal makes a sound')\n",
    "\n",
    "class Dog(Animal):\n",
    "    def __init__(self,name):\n",
    "        super().__init__(name)\n",
    "    def speak(self):\n",
    "        print(f\"The {self.name} says woof!\")\n",
    "\n",
    "## Function to reprsent polymorphism\n",
    "\n",
    "def animal_speak(object):\n",
    "    print(object.speak())\n",
    "\n",
    "\n",
    "a1 = Animal('Jacky')\n",
    "a2 = Dog('Lucy')\n",
    "animal_speak(a1)\n",
    "animal_speak(a2)"
   ]
  },
  {
   "cell_type": "markdown",
   "id": "215de12b",
   "metadata": {},
   "source": [
    "## Polymorphism through abstract base classes"
   ]
  },
  {
   "cell_type": "code",
   "execution_count": 5,
   "id": "0d6dac51",
   "metadata": {},
   "outputs": [],
   "source": [
    "from abc import ABC, abstractmethod  ## ABC is an abstract base class and method is a decorater\n",
    "## Uniformity in structure of child class"
   ]
  },
  {
   "cell_type": "code",
   "execution_count": 12,
   "metadata": {},
   "outputs": [
    {
     "name": "stdout",
     "output_type": "stream",
     "text": [
      "You are driving a Toyota GLI with 4 doors\n",
      "You are driving a Honda 125 with an engine size of 125CC\n"
     ]
    }
   ],
   "source": [
    "class Vehicle(ABC):\n",
    "    def __init__(self, brand, model, year):\n",
    "        self.brand = brand\n",
    "        self.model = model\n",
    "        self.year = year\n",
    "\n",
    "    \n",
    "        @abstractmethod\n",
    "        def drive(self):\n",
    "            pass\n",
    "\n",
    "class Car(Vehicle):\n",
    "    def __init__(self, brand, model, year, num_doors):\n",
    "        super().__init__(brand,model,year)\n",
    "        self.num_doors = num_doors\n",
    "\n",
    "    def drive(self):\n",
    "        print(f\"You are driving a {self.brand} {self.model} with {self.num_doors} doors\")\n",
    "\n",
    "class Motorbike(Vehicle):\n",
    "    def __init__(self, brand, model, year, engine_size):\n",
    "        super().__init__(brand, model, year)\n",
    "        self.engine_size = engine_size\n",
    "\n",
    "    def drive(self):\n",
    "        print(f\"You are driving a {self.brand} {self.model} with an engine size of {self.engine_size}\")\n",
    "\n",
    "\n",
    "c1 = Car('Toyota', 'GLI', 2020, 4)\n",
    "c1.drive()\n",
    "\n",
    "m1 = Motorbike('Honda', '125', 2015, '125CC')\n",
    "m1.drive()"
   ]
  },
  {
   "cell_type": "code",
   "execution_count": 13,
   "metadata": {},
   "outputs": [
    {
     "name": "stdout",
     "output_type": "stream",
     "text": [
      "You are driving a Honda City with 4 doors\n",
      "You are driving a Kawasaki CG with an engine size of 150CC\n"
     ]
    }
   ],
   "source": [
    "c2 = Car('Honda', 'City', 2015, 4)\n",
    "c2.drive()\n",
    "\n",
    "m2 = Motorbike('Kawasaki', 'CG', 2005, '150CC')\n",
    "m2.drive()"
   ]
  },
  {
   "cell_type": "code",
   "execution_count": null,
   "id": "b3ab1877",
   "metadata": {},
   "outputs": [],
   "source": []
  },
  {
   "cell_type": "code",
   "execution_count": null,
   "id": "06428035",
   "metadata": {},
   "outputs": [],
   "source": []
  },
  {
   "cell_type": "code",
   "execution_count": null,
   "id": "a8e8b1e2",
   "metadata": {},
   "outputs": [],
   "source": []
  },
  {
   "cell_type": "code",
   "execution_count": null,
   "id": "2d2cfc0a",
   "metadata": {},
   "outputs": [],
   "source": []
  }
 ],
 "metadata": {
  "kernelspec": {
   "display_name": "Python 3",
   "language": "python",
   "name": "python3"
  },
  "language_info": {
   "codemirror_mode": {
    "name": "ipython",
    "version": 3
   },
   "file_extension": ".py",
   "mimetype": "text/x-python",
   "name": "python",
   "nbconvert_exporter": "python",
   "pygments_lexer": "ipython3",
   "version": "3.12.0"
  }
 },
 "nbformat": 4,
 "nbformat_minor": 5
}
