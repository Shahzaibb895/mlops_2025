{
 "cells": [
  {
   "cell_type": "markdown",
   "id": "c212a264",
   "metadata": {},
   "source": [
    "## Inheritence in Python\n",
    "\n",
    "- Single Inheritence\n",
    "- Multiple Inheritence"
   ]
  },
  {
   "cell_type": "code",
   "execution_count": 1,
   "id": "7ef6a7b2",
   "metadata": {},
   "outputs": [],
   "source": [
    "## \n",
    "class Car:\n",
    "    def __init__(self,engine_type,model,year):\n",
    "        self.engine_type = engine_type\n",
    "        self.model = model \n",
    "        self.year = year\n",
    "    \n",
    "    def drive(self):\n",
    "        print(f'\"The {self.model} is driving')"
   ]
  },
  {
   "cell_type": "code",
   "execution_count": 5,
   "id": "87422717",
   "metadata": {},
   "outputs": [
    {
     "name": "stdout",
     "output_type": "stream",
     "text": [
      "Grey\n",
      "A car started\n",
      "\"The A is driving\n"
     ]
    }
   ],
   "source": [
    "## Single Inheritence\n",
    "\n",
    "class Tata(Car):\n",
    "    def __init__(self, model, year, color):\n",
    "        super().__init__(self,model, year)\n",
    "        self.color = color\n",
    "    \n",
    "    def start(self):\n",
    "        print(f\"{self.model} car started\")\n",
    "\n",
    "t1 = Tata('A',2025,'Grey')\n",
    "\n",
    "print(t1.color)\n",
    "t1.start()\n",
    "t1.drive()"
   ]
  },
  {
   "cell_type": "code",
   "execution_count": 8,
   "id": "34737a16",
   "metadata": {},
   "outputs": [
    {
     "name": "stdout",
     "output_type": "stream",
     "text": [
      "Buddy\n",
      "Buddy makes a sound\n"
     ]
    }
   ],
   "source": [
    "## Class_1\n",
    "\n",
    "class Animal:\n",
    "    def __init__(self, name):\n",
    "        self.name = name\n",
    "\n",
    "    def speak(self):\n",
    "        print(f\"{self.name} makes a sound\")\n",
    "        \n",
    "\n",
    "## Class 2\n",
    "\n",
    "class Pet:\n",
    "    def __init__(self, owner):\n",
    "        self.owner = owner\n",
    "\n",
    "## Class 3 - Child Class\n",
    "\n",
    "class Dog(Animal,Pet):\n",
    "    def __init__(self, name,owner):\n",
    "        Animal.__init__(self,name)\n",
    "        Pet.__init__(self, owner)\n",
    "\n",
    "\n",
    "d1 = Dog(\"Buddy\", \"John\")\n",
    "\n",
    "print(d1.name)\n",
    "d1.speak()\n",
    "\n"
   ]
  },
  {
   "cell_type": "code",
   "execution_count": null,
   "id": "1f5eef52",
   "metadata": {},
   "outputs": [],
   "source": []
  },
  {
   "cell_type": "code",
   "execution_count": null,
   "id": "3a888088",
   "metadata": {},
   "outputs": [],
   "source": []
  },
  {
   "cell_type": "code",
   "execution_count": null,
   "id": "97d670d6",
   "metadata": {},
   "outputs": [],
   "source": []
  },
  {
   "cell_type": "code",
   "execution_count": null,
   "id": "635b2565",
   "metadata": {},
   "outputs": [],
   "source": []
  },
  {
   "cell_type": "code",
   "execution_count": null,
   "id": "05602240",
   "metadata": {},
   "outputs": [],
   "source": [
    "1"
   ]
  }
 ],
 "metadata": {
  "kernelspec": {
   "display_name": "Python 3",
   "language": "python",
   "name": "python3"
  },
  "language_info": {
   "codemirror_mode": {
    "name": "ipython",
    "version": 3
   },
   "file_extension": ".py",
   "mimetype": "text/x-python",
   "name": "python",
   "nbconvert_exporter": "python",
   "pygments_lexer": "ipython3",
   "version": "3.12.0"
  }
 },
 "nbformat": 4,
 "nbformat_minor": 5
}
