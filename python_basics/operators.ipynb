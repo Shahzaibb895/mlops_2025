{
 "cells": [
  {
   "cell_type": "markdown",
   "id": "957df4d2",
   "metadata": {},
   "source": [
    "## Operators \n",
    "## Type of Operators\n",
    "\n",
    "- Arithmetic\n",
    "- Logical\n",
    "- Comparison"
   ]
  },
  {
   "cell_type": "markdown",
   "id": "918ba7ab",
   "metadata": {},
   "source": [
    "### Arithmetic Operators "
   ]
  },
  {
   "cell_type": "code",
   "execution_count": 2,
   "id": "458200ca",
   "metadata": {},
   "outputs": [
    {
     "name": "stdout",
     "output_type": "stream",
     "text": [
      "0.75\n",
      "0\n",
      "1\n"
     ]
    }
   ],
   "source": [
    "## +\n",
    "## -\n",
    "## / \n",
    "## // floor division\n",
    "## %\n",
    "\n",
    "div = 3/4\n",
    "floor_div = 3//4\n",
    "modulo = 4%3\n",
    "\n",
    "print(div)\n",
    "print(floor_div)\n",
    "print(modulo)"
   ]
  },
  {
   "cell_type": "code",
   "execution_count": 3,
   "id": "65ef460c",
   "metadata": {},
   "outputs": [
    {
     "name": "stdout",
     "output_type": "stream",
     "text": [
      "False\n"
     ]
    }
   ],
   "source": [
    "## Comparison Operators\n",
    "\n",
    "gene_1 = \"ATTTGCAT\"\n",
    "gene_2 = \"attgcatc\"\n",
    "print(gene_1 == gene_2)"
   ]
  },
  {
   "cell_type": "code",
   "execution_count": null,
   "id": "b1298101",
   "metadata": {},
   "outputs": [],
   "source": [
    "## == \n",
    "## != not equal to\n",
    "## <= less than equal to\n",
    "## >= greater than equal to\n",
    "## > greater than\n",
    "## < less than"
   ]
  },
  {
   "cell_type": "code",
   "execution_count": null,
   "id": "b7aec838",
   "metadata": {},
   "outputs": [
    {
     "data": {
      "text/plain": [
       "False"
      ]
     },
     "execution_count": 7,
     "metadata": {},
     "output_type": "execute_result"
    }
   ],
   "source": [
    "## Logical Operators\n",
    "\n",
    "## and 2 inputs fulfilled\n",
    "## or  1 input fuulfilled\n",
    "## not inverse the inputs\n",
    "\n",
    "x = True\n",
    "y = True\n",
    "\n",
    "x and y "
   ]
  },
  {
   "cell_type": "code",
   "execution_count": null,
   "id": "fbffb1db",
   "metadata": {},
   "outputs": [],
   "source": []
  }
 ],
 "metadata": {
  "kernelspec": {
   "display_name": "Python 3",
   "language": "python",
   "name": "python3"
  },
  "language_info": {
   "codemirror_mode": {
    "name": "ipython",
    "version": 3
   },
   "file_extension": ".py",
   "mimetype": "text/x-python",
   "name": "python",
   "nbconvert_exporter": "python",
   "pygments_lexer": "ipython3",
   "version": "3.12.0"
  }
 },
 "nbformat": 4,
 "nbformat_minor": 5
}
