{
 "cells": [
  {
   "cell_type": "markdown",
   "id": "8381fccf",
   "metadata": {},
   "source": [
    "## day_1st_python_programming"
   ]
  },
  {
   "cell_type": "code",
   "execution_count": 4,
   "id": "19c1812c",
   "metadata": {},
   "outputs": [
    {
     "data": {
      "text/plain": [
       "2"
      ]
     },
     "execution_count": 4,
     "metadata": {},
     "output_type": "execute_result"
    }
   ],
   "source": [
    "1+1"
   ]
  },
  {
   "cell_type": "code",
   "execution_count": 5,
   "id": "d7b81eb8",
   "metadata": {},
   "outputs": [],
   "source": [
    "## syntax,sementics\n",
    "## single line, multiple line comments\n",
    "## case sensitivity\n",
    "## indentation\n",
    "## line continuation\n",
    "## multiple statements in one line"
   ]
  },
  {
   "cell_type": "code",
   "execution_count": 6,
   "id": "3bfd28d8",
   "metadata": {},
   "outputs": [],
   "source": [
    "## syntax: words, letters, symbols\n",
    "## sementics: what the code is supposed to do"
   ]
  },
  {
   "cell_type": "code",
   "execution_count": 7,
   "id": "31744c86",
   "metadata": {},
   "outputs": [
    {
     "name": "stdout",
     "output_type": "stream",
     "text": [
      "shahzaib is doing coding\n"
     ]
    }
   ],
   "source": [
    "## single line comment\n",
    "print(\"shahzaib is doing coding\") ## shahzaib is writing a single line comment"
   ]
  },
  {
   "cell_type": "code",
   "execution_count": null,
   "id": "13db9341",
   "metadata": {},
   "outputs": [],
   "source": [
    "## multiline comments\n",
    "## for python files"
   ]
  },
  {
   "cell_type": "code",
   "execution_count": 9,
   "id": "5d8cc0f9",
   "metadata": {},
   "outputs": [
    {
     "name": "stdout",
     "output_type": "stream",
     "text": [
      "Shahzaib\n",
      "Shahzaib\n"
     ]
    }
   ],
   "source": [
    "## case sensitivity\n",
    "name = \"Shahzaib\"\n",
    "Name = \"Shahzaib\"\n",
    "print(name)\n",
    "print(Name)"
   ]
  },
  {
   "cell_type": "code",
   "execution_count": 10,
   "id": "b7eab414",
   "metadata": {},
   "outputs": [
    {
     "name": "stdout",
     "output_type": "stream",
     "text": [
      "you are an adult.\n"
     ]
    }
   ],
   "source": [
    "## indentation: 4_spaces\\ one_tab\n",
    "age=23\n",
    "\n",
    "if age>21:\n",
    "    print('you are an adult.') \n"
   ]
  },
  {
   "cell_type": "code",
   "execution_count": 11,
   "id": "d232c00c",
   "metadata": {},
   "outputs": [
    {
     "name": "stdout",
     "output_type": "stream",
     "text": [
      "you are under age.\n"
     ]
    }
   ],
   "source": [
    "if age<25:\n",
    "    print(\"you are under age.\")"
   ]
  },
  {
   "cell_type": "code",
   "execution_count": 12,
   "id": "1b75372b",
   "metadata": {},
   "outputs": [
    {
     "name": "stdout",
     "output_type": "stream",
     "text": [
      "288\n"
     ]
    }
   ],
   "source": [
    "## line continuation\n",
    "\n",
    "total = 1+2+2+44+55+55+45+\\\n",
    "34+50\n",
    "\n",
    "print(total)"
   ]
  },
  {
   "cell_type": "code",
   "execution_count": 13,
   "id": "77a1fd8f",
   "metadata": {},
   "outputs": [
    {
     "name": "stdout",
     "output_type": "stream",
     "text": [
      "3\n",
      "21\n",
      "45\n"
     ]
    }
   ],
   "source": [
    "## multiple statements in one line \n",
    "\n",
    "x=3;y=21;z=45\n",
    "print(x);print(y);print(z)"
   ]
  }
 ],
 "metadata": {
  "kernelspec": {
   "display_name": "Python 3",
   "language": "python",
   "name": "python3"
  },
  "language_info": {
   "codemirror_mode": {
    "name": "ipython",
    "version": 3
   },
   "file_extension": ".py",
   "mimetype": "text/x-python",
   "name": "python",
   "nbconvert_exporter": "python",
   "pygments_lexer": "ipython3",
   "version": "3.12.0"
  }
 },
 "nbformat": 4,
 "nbformat_minor": 5
}
