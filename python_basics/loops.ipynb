{
 "cells": [
  {
   "cell_type": "markdown",
   "id": "c48cd12b",
   "metadata": {},
   "source": [
    "## Loops in Python\n",
    "- For loop \n",
    "- Whhile loop\n",
    "\n",
    "## Loop Control Statements\n",
    "- Pass \n",
    "- Continue\n",
    "- Break"
   ]
  },
  {
   "cell_type": "code",
   "execution_count": 3,
   "id": "cb999d94",
   "metadata": {},
   "outputs": [
    {
     "name": "stdout",
     "output_type": "stream",
     "text": [
      "12 34 18 12 "
     ]
    }
   ],
   "source": [
    "## 1_ For Loop\n",
    "\n",
    "age = [12,21,33,34,55,15,18,12,21]\n",
    "\n",
    "for i in age:\n",
    "    if i%2==0:\n",
    "        print(i, end=\" \")\n",
    "\n"
   ]
  },
  {
   "cell_type": "code",
   "execution_count": 7,
   "id": "ca41ee7f",
   "metadata": {},
   "outputs": [
    {
     "name": "stdout",
     "output_type": "stream",
     "text": [
      "0 2 4 6 8 10 12 14 16 18 20 22 24 26 28 30 32 34 36 38 40 42 44 46 48 50 52 54 56 58 60 62 64 66 68 70 72 74 76 78 80 82 84 86 88 90 92 94 96 98 "
     ]
    }
   ],
   "source": [
    "for i in range(100):\n",
    "    if i%2==0:\n",
    "        print(i, end=\" \")"
   ]
  },
  {
   "cell_type": "code",
   "execution_count": 11,
   "id": "01af9548",
   "metadata": {},
   "outputs": [
    {
     "name": "stdout",
     "output_type": "stream",
     "text": [
      "4950\n"
     ]
    }
   ],
   "source": [
    "sum = 0\n",
    "for i in range(100):\n",
    "    sum += i\n",
    "print(sum)"
   ]
  },
  {
   "cell_type": "code",
   "execution_count": 14,
   "id": "107e6b19",
   "metadata": {},
   "outputs": [
    {
     "name": "stdout",
     "output_type": "stream",
     "text": [
      "93326215443944152681699238856266700490715968264381621468592963895217599993229915608941463976156518286253697920827223758251185210916864000000000000000000000000\n"
     ]
    }
   ],
   "source": [
    "## While Loop\n",
    "num = 100\n",
    "fact = 1\n",
    "count = 1\n",
    "\n",
    "while count<=num:\n",
    "    fact = fact * count \n",
    "    count += 1\n",
    "print(fact) "
   ]
  },
  {
   "cell_type": "code",
   "execution_count": 18,
   "id": "2fe20fc7",
   "metadata": {},
   "outputs": [
    {
     "name": "stdout",
     "output_type": "stream",
     "text": [
      "93326215443944152681699238856266700490715968264381621468592963895217599993229915608941463976156518286253697920827223758251185210916864000000000000000000000000\n"
     ]
    }
   ],
   "source": [
    "num = 1\n",
    "count = 100\n",
    "fact = 1\n",
    "\n",
    "while count>=1:\n",
    "    fact = fact * count\n",
    "    count -= 1\n",
    "\n",
    "print(fact)"
   ]
  },
  {
   "cell_type": "markdown",
   "id": "054689c4",
   "metadata": {},
   "source": [
    "## Loop Control Statement"
   ]
  },
  {
   "cell_type": "code",
   "execution_count": 20,
   "id": "e1ac52c3",
   "metadata": {},
   "outputs": [],
   "source": [
    "## Pass Statement\n",
    "\n",
    "for i in range(100):\n",
    "    pass "
   ]
  },
  {
   "cell_type": "code",
   "execution_count": 21,
   "id": "923b2590",
   "metadata": {},
   "outputs": [
    {
     "name": "stdout",
     "output_type": "stream",
     "text": [
      "1 3 5 7 9 "
     ]
    }
   ],
   "source": [
    "## Continue Statement\n",
    "\n",
    "for i in range(10):\n",
    "    if i%2==0:\n",
    "        continue\n",
    "    print(i, end=\" \")"
   ]
  },
  {
   "cell_type": "code",
   "execution_count": 24,
   "id": "6791f4b1",
   "metadata": {},
   "outputs": [
    {
     "name": "stdout",
     "output_type": "stream",
     "text": [
      "0 1 2 3 4 5 6 7 8 9 10 11 12 13 14 15 16 17 18 19 20 21 22 23 24 25 26 27 28 29 30 31 32 33 34 35 36 37 "
     ]
    }
   ],
   "source": [
    "for i in range(50):\n",
    "    if i==38:\n",
    "        break\n",
    "    print(i, end=\" \")"
   ]
  },
  {
   "cell_type": "markdown",
   "id": "1e49d40f",
   "metadata": {},
   "source": [
    "## Nested Loop"
   ]
  },
  {
   "cell_type": "code",
   "execution_count": 25,
   "id": "404c0664",
   "metadata": {},
   "outputs": [
    {
     "name": "stdout",
     "output_type": "stream",
     "text": [
      " 0:Shahzaib\n",
      " 0:Haseeb\n",
      " 0:Ali\n",
      " 1:Shahzaib\n",
      " 1:Haseeb\n",
      " 1:Ali\n",
      " 2:Shahzaib\n",
      " 2:Haseeb\n",
      " 2:Ali\n"
     ]
    }
   ],
   "source": [
    "names = ['Shahzaib', 'Haseeb', 'Ali']\n",
    "\n",
    "for i in range (3):\n",
    "    for j in names:\n",
    "        print(f\" {i}:{j}\")"
   ]
  },
  {
   "cell_type": "code",
   "execution_count": null,
   "id": "175cea48",
   "metadata": {},
   "outputs": [],
   "source": []
  }
 ],
 "metadata": {
  "kernelspec": {
   "display_name": "Python 3",
   "language": "python",
   "name": "python3"
  },
  "language_info": {
   "codemirror_mode": {
    "name": "ipython",
    "version": 3
   },
   "file_extension": ".py",
   "mimetype": "text/x-python",
   "name": "python",
   "nbconvert_exporter": "python",
   "pygments_lexer": "ipython3",
   "version": "3.12.0"
  }
 },
 "nbformat": 4,
 "nbformat_minor": 5
}
